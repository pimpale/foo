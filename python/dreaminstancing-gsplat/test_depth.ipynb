{
 "cells": [
  {
   "cell_type": "code",
   "execution_count": 1,
   "metadata": {},
   "outputs": [],
   "source": [
    "import dreaminstancing_diff_gaussian_rasterization as ddgr\n",
    "import matplotlib.pyplot as plt\n",
    "\n",
    "import torch\n",
    "import torch.nn as nn\n",
    "import torch.nn.functional as F\n",
    "\n",
    "import numpy as np\n",
    "import pyquaternion\n",
    "import math"
   ]
  },
  {
   "cell_type": "code",
   "execution_count": 2,
   "metadata": {},
   "outputs": [
    {
     "ename": "RuntimeError",
     "evalue": "CUDA unknown error - this may be due to an incorrectly set up environment, e.g. changing env variable CUDA_VISIBLE_DEVICES after program start. Setting the available devices to be zero.",
     "output_type": "error",
     "traceback": [
      "\u001b[0;31m---------------------------------------------------------------------------\u001b[0m",
      "\u001b[0;31mRuntimeError\u001b[0m                              Traceback (most recent call last)",
      "Cell \u001b[0;32mIn[2], line 7\u001b[0m\n\u001b[1;32m      3\u001b[0m \u001b[38;5;66;03m# generate a random point cloud\u001b[39;00m\n\u001b[1;32m      4\u001b[0m N \u001b[38;5;241m=\u001b[39m \u001b[38;5;241m100\u001b[39m\n\u001b[1;32m      5\u001b[0m means3D \u001b[38;5;241m=\u001b[39m torch\u001b[38;5;241m.\u001b[39mcat(\n\u001b[1;32m      6\u001b[0m     [\n\u001b[0;32m----> 7\u001b[0m         \u001b[43mtorch\u001b[49m\u001b[38;5;241;43m.\u001b[39;49m\u001b[43mrand\u001b[49m\u001b[43m(\u001b[49m\u001b[43mN\u001b[49m\u001b[43m,\u001b[49m\u001b[43m \u001b[49m\u001b[38;5;241;43m1\u001b[39;49m\u001b[43m,\u001b[49m\u001b[43m \u001b[49m\u001b[43mdtype\u001b[49m\u001b[38;5;241;43m=\u001b[39;49m\u001b[43mtorch\u001b[49m\u001b[38;5;241;43m.\u001b[39;49m\u001b[43mfloat32\u001b[49m\u001b[43m,\u001b[49m\u001b[43m \u001b[49m\u001b[43mdevice\u001b[49m\u001b[38;5;241;43m=\u001b[39;49m\u001b[43mdevice\u001b[49m\u001b[43m)\u001b[49m \u001b[38;5;241m*\u001b[39m \u001b[38;5;241m2\u001b[39m \u001b[38;5;241m-\u001b[39m \u001b[38;5;241m1\u001b[39m,\n\u001b[1;32m      8\u001b[0m         torch\u001b[38;5;241m.\u001b[39mrand(N, \u001b[38;5;241m1\u001b[39m, dtype\u001b[38;5;241m=\u001b[39mtorch\u001b[38;5;241m.\u001b[39mfloat32, device\u001b[38;5;241m=\u001b[39mdevice) \u001b[38;5;241m*\u001b[39m \u001b[38;5;241m2\u001b[39m \u001b[38;5;241m-\u001b[39m \u001b[38;5;241m1\u001b[39m,\n\u001b[1;32m      9\u001b[0m         torch\u001b[38;5;241m.\u001b[39mrand(N, \u001b[38;5;241m1\u001b[39m, dtype\u001b[38;5;241m=\u001b[39mtorch\u001b[38;5;241m.\u001b[39mfloat32, device\u001b[38;5;241m=\u001b[39mdevice) \u001b[38;5;241m*\u001b[39m \u001b[38;5;241m10\u001b[39m  \u001b[38;5;241m+\u001b[39m \u001b[38;5;241m5\u001b[39m,\n\u001b[1;32m     10\u001b[0m     ],\n\u001b[1;32m     11\u001b[0m     dim\u001b[38;5;241m=\u001b[39m\u001b[38;5;241m1\u001b[39m,\n\u001b[1;32m     12\u001b[0m )\n\u001b[1;32m     13\u001b[0m means2D \u001b[38;5;241m=\u001b[39m torch\u001b[38;5;241m.\u001b[39mzeros(N, \u001b[38;5;241m2\u001b[39m, dtype\u001b[38;5;241m=\u001b[39mtorch\u001b[38;5;241m.\u001b[39mfloat32, device\u001b[38;5;241m=\u001b[39mdevice)\n\u001b[1;32m     14\u001b[0m opacities \u001b[38;5;241m=\u001b[39m torch\u001b[38;5;241m.\u001b[39mones(N, \u001b[38;5;241m1\u001b[39m, dtype\u001b[38;5;241m=\u001b[39mtorch\u001b[38;5;241m.\u001b[39mfloat32, device\u001b[38;5;241m=\u001b[39mdevice)\n",
      "File \u001b[0;32m~/venvs/gaussiansplatting/lib/python3.11/site-packages/torch/cuda/__init__.py:302\u001b[0m, in \u001b[0;36m_lazy_init\u001b[0;34m()\u001b[0m\n\u001b[1;32m    300\u001b[0m \u001b[38;5;28;01mif\u001b[39;00m \u001b[38;5;124m\"\u001b[39m\u001b[38;5;124mCUDA_MODULE_LOADING\u001b[39m\u001b[38;5;124m\"\u001b[39m \u001b[38;5;129;01mnot\u001b[39;00m \u001b[38;5;129;01min\u001b[39;00m os\u001b[38;5;241m.\u001b[39menviron:\n\u001b[1;32m    301\u001b[0m     os\u001b[38;5;241m.\u001b[39menviron[\u001b[38;5;124m\"\u001b[39m\u001b[38;5;124mCUDA_MODULE_LOADING\u001b[39m\u001b[38;5;124m\"\u001b[39m] \u001b[38;5;241m=\u001b[39m \u001b[38;5;124m\"\u001b[39m\u001b[38;5;124mLAZY\u001b[39m\u001b[38;5;124m\"\u001b[39m\n\u001b[0;32m--> 302\u001b[0m \u001b[43mtorch\u001b[49m\u001b[38;5;241;43m.\u001b[39;49m\u001b[43m_C\u001b[49m\u001b[38;5;241;43m.\u001b[39;49m\u001b[43m_cuda_init\u001b[49m\u001b[43m(\u001b[49m\u001b[43m)\u001b[49m\n\u001b[1;32m    303\u001b[0m \u001b[38;5;66;03m# Some of the queued calls may reentrantly call _lazy_init();\u001b[39;00m\n\u001b[1;32m    304\u001b[0m \u001b[38;5;66;03m# we need to just return without initializing in that case.\u001b[39;00m\n\u001b[1;32m    305\u001b[0m \u001b[38;5;66;03m# However, we must not let any *other* threads in!\u001b[39;00m\n\u001b[1;32m    306\u001b[0m _tls\u001b[38;5;241m.\u001b[39mis_initializing \u001b[38;5;241m=\u001b[39m \u001b[38;5;28;01mTrue\u001b[39;00m\n",
      "\u001b[0;31mRuntimeError\u001b[0m: CUDA unknown error - this may be due to an incorrectly set up environment, e.g. changing env variable CUDA_VISIBLE_DEVICES after program start. Setting the available devices to be zero."
     ]
    }
   ],
   "source": [
    "device = torch.device(\"cuda\")\n",
    "\n",
    "# generate a random point cloud\n",
    "N = 100\n",
    "means3D = torch.cat(\n",
    "    [\n",
    "        torch.rand(N, 1, dtype=torch.float32, device=device) * 2 - 1,\n",
    "        torch.rand(N, 1, dtype=torch.float32, device=device) * 2 - 1,\n",
    "        torch.rand(N, 1, dtype=torch.float32, device=device) * 10  + 5,\n",
    "    ],\n",
    "    dim=1,\n",
    ")\n",
    "means2D = torch.zeros(N, 2, dtype=torch.float32, device=device)\n",
    "opacities = torch.ones(N, 1, dtype=torch.float32, device=device)\n",
    "scales = torch.ones(N, 3, dtype=torch.float32, device=device)\n",
    "rotations = (\n",
    "    torch.from_numpy(np.stack([pyquaternion.Quaternion().elements for _ in range(N)]))\n",
    "    .to(torch.float32)\n",
    "    .to(device)\n",
    ")\n",
    "colors_precomp = torch.rand(N, 3, dtype=torch.float32, device=device)"
   ]
  },
  {
   "cell_type": "code",
   "execution_count": null,
   "metadata": {},
   "outputs": [],
   "source": [
    "def gen_perspective_matrix(\n",
    "    fovx: float, fovy: float, near: float, far: float\n",
    "):\n",
    "    \"\"\"Generate perspective projection matrix.\n",
    "\n",
    "    Args:\n",
    "        fovx (float): field of view angle in degrees in the x direction\n",
    "        fovy (float): field of view angle in degrees in the y direction\n",
    "        near (float): near plane\n",
    "        far (float): far plane\n",
    "\n",
    "    Returns:\n",
    "        torch.Tensor: perspective projection matrix\n",
    "    \"\"\"\n",
    "    # Convert fov from degrees to radians and calculate the tangent\n",
    "    tan_half_fovx = math.tan(math.radians(fovx / 2))\n",
    "    tan_half_fovy = math.tan(math.radians(fovy / 2))\n",
    "\n",
    "    return torch.tensor(\n",
    "        [\n",
    "            [1 / tan_half_fovx, 0, 0, 0],\n",
    "            [0, 1 / tan_half_fovy, 0, 0],\n",
    "            [0, 0, -(far + near) / (far - near), -2*(far * near) / (far - near)],\n",
    "            [0, 0, -1, 0],\n",
    "        ]\n",
    "    )"
   ]
  },
  {
   "cell_type": "code",
   "execution_count": null,
   "metadata": {},
   "outputs": [
    {
     "ename": "RuntimeError",
     "evalue": "CUDA error: unspecified launch failure\nCUDA kernel errors might be asynchronously reported at some other API call, so the stacktrace below might be incorrect.\nFor debugging consider passing CUDA_LAUNCH_BLOCKING=1.\nCompile with `TORCH_USE_CUDA_DSA` to enable device-side assertions.\n",
     "output_type": "error",
     "traceback": [
      "\u001b[0;31m---------------------------------------------------------------------------\u001b[0m",
      "\u001b[0;31mRuntimeError\u001b[0m                              Traceback (most recent call last)",
      "Cell \u001b[0;32mIn[30], line 13\u001b[0m\n\u001b[1;32m      1\u001b[0m FoVx \u001b[38;5;241m=\u001b[39m \u001b[38;5;241m90\u001b[39m\n\u001b[1;32m      2\u001b[0m FoVy \u001b[38;5;241m=\u001b[39m \u001b[38;5;241m90\u001b[39m\n\u001b[1;32m      4\u001b[0m rasterizer \u001b[38;5;241m=\u001b[39m ddgr\u001b[38;5;241m.\u001b[39mGaussianRasterizer(\n\u001b[1;32m      5\u001b[0m     ddgr\u001b[38;5;241m.\u001b[39mGaussianRasterizationSettings(\n\u001b[1;32m      6\u001b[0m         image_height\u001b[38;5;241m=\u001b[39m\u001b[38;5;241m512\u001b[39m,\n\u001b[1;32m      7\u001b[0m         image_width\u001b[38;5;241m=\u001b[39m\u001b[38;5;241m512\u001b[39m,\n\u001b[1;32m      8\u001b[0m         tanfovx\u001b[38;5;241m=\u001b[39mmath\u001b[38;5;241m.\u001b[39mtan(FoVx \u001b[38;5;241m*\u001b[39m \u001b[38;5;241m0.5\u001b[39m),\n\u001b[1;32m      9\u001b[0m         tanfovy\u001b[38;5;241m=\u001b[39mmath\u001b[38;5;241m.\u001b[39mtan(FoVy \u001b[38;5;241m*\u001b[39m \u001b[38;5;241m0.5\u001b[39m),\n\u001b[1;32m     10\u001b[0m         bg\u001b[38;5;241m=\u001b[39mtorch\u001b[38;5;241m.\u001b[39mones(\u001b[38;5;241m4\u001b[39m, dtype\u001b[38;5;241m=\u001b[39mtorch\u001b[38;5;241m.\u001b[39mfloat32, device\u001b[38;5;241m=\u001b[39mdevice)\u001b[38;5;241m*\u001b[39m\u001b[38;5;241m5\u001b[39m,\n\u001b[1;32m     11\u001b[0m         scale_modifier\u001b[38;5;241m=\u001b[39m\u001b[38;5;241m1.0\u001b[39m,\n\u001b[1;32m     12\u001b[0m         viewmatrix\u001b[38;5;241m=\u001b[39mtorch\u001b[38;5;241m.\u001b[39meye(\u001b[38;5;241m4\u001b[39m, dtype\u001b[38;5;241m=\u001b[39mtorch\u001b[38;5;241m.\u001b[39mfloat32, device\u001b[38;5;241m=\u001b[39mdevice),\n\u001b[0;32m---> 13\u001b[0m         projmatrix\u001b[38;5;241m=\u001b[39m\u001b[43mgen_perspective_matrix\u001b[49m\u001b[43m(\u001b[49m\u001b[43mFoVx\u001b[49m\u001b[43m,\u001b[49m\u001b[43m \u001b[49m\u001b[43mFoVy\u001b[49m\u001b[43m,\u001b[49m\u001b[43m \u001b[49m\u001b[38;5;241;43m0.1\u001b[39;49m\u001b[43m,\u001b[49m\u001b[43m \u001b[49m\u001b[38;5;241;43m100\u001b[39;49m\u001b[43m)\u001b[49m\u001b[38;5;241;43m.\u001b[39;49m\u001b[43mto\u001b[49m\u001b[43m(\u001b[49m\u001b[43mdevice\u001b[49m\u001b[43m)\u001b[49m,\n\u001b[1;32m     14\u001b[0m         sh_degree\u001b[38;5;241m=\u001b[39m\u001b[38;5;241m1\u001b[39m,\n\u001b[1;32m     15\u001b[0m         campos\u001b[38;5;241m=\u001b[39mtorch\u001b[38;5;241m.\u001b[39mtensor([\u001b[38;5;241m0\u001b[39m, \u001b[38;5;241m0\u001b[39m, \u001b[38;5;241m0\u001b[39m], dtype\u001b[38;5;241m=\u001b[39mtorch\u001b[38;5;241m.\u001b[39mfloat32, device\u001b[38;5;241m=\u001b[39mdevice),\n\u001b[1;32m     16\u001b[0m         prefiltered\u001b[38;5;241m=\u001b[39m\u001b[38;5;28;01mFalse\u001b[39;00m,\n\u001b[1;32m     17\u001b[0m         debug\u001b[38;5;241m=\u001b[39m\u001b[38;5;28;01mTrue\u001b[39;00m,\n\u001b[1;32m     18\u001b[0m     )\n\u001b[1;32m     19\u001b[0m )\n\u001b[1;32m     21\u001b[0m rendered_image, radii, depth, alpha \u001b[38;5;241m=\u001b[39m rasterizer(\n\u001b[1;32m     22\u001b[0m     means3D\u001b[38;5;241m=\u001b[39mmeans3D,\n\u001b[1;32m     23\u001b[0m     means2D\u001b[38;5;241m=\u001b[39mmeans2D,\n\u001b[0;32m   (...)\u001b[0m\n\u001b[1;32m     27\u001b[0m     rotations\u001b[38;5;241m=\u001b[39mrotations,\n\u001b[1;32m     28\u001b[0m )\n\u001b[1;32m     31\u001b[0m \u001b[38;5;66;03m# display the rendered image\u001b[39;00m\n",
      "\u001b[0;31mRuntimeError\u001b[0m: CUDA error: unspecified launch failure\nCUDA kernel errors might be asynchronously reported at some other API call, so the stacktrace below might be incorrect.\nFor debugging consider passing CUDA_LAUNCH_BLOCKING=1.\nCompile with `TORCH_USE_CUDA_DSA` to enable device-side assertions.\n"
     ]
    }
   ],
   "source": [
    "FoVx = 90\n",
    "FoVy = 90\n",
    "\n",
    "rasterizer = ddgr.GaussianRasterizer(\n",
    "    ddgr.GaussianRasterizationSettings(\n",
    "        image_height=512,\n",
    "        image_width=512,\n",
    "        tanfovx=math.tan(FoVx * 0.5),\n",
    "        tanfovy=math.tan(FoVy * 0.5),\n",
    "        bg=torch.ones(4, dtype=torch.float32, device=device)*5,\n",
    "        scale_modifier=1.0,\n",
    "        viewmatrix=torch.eye(4, dtype=torch.float32, device=device),\n",
    "        projmatrix=gen_perspective_matrix(FoVx, FoVy, 0.1, 100).to(device),\n",
    "        sh_degree=1,\n",
    "        campos=torch.tensor([0, 0, 0], dtype=torch.float32, device=device),\n",
    "        prefiltered=False,\n",
    "        debug=True,\n",
    "    )\n",
    ")\n",
    "\n",
    "rendered_image, radii, depth, alpha = rasterizer(\n",
    "    means3D=means3D,\n",
    "    means2D=means2D,\n",
    "    colors_precomp=colors_precomp,\n",
    "    opacities=opacities,\n",
    "    scales=scales,\n",
    "    rotations=rotations,\n",
    ")\n",
    "\n",
    "\n",
    "# display the rendered image\n",
    "plt.imshow(rendered_image.permute(1, 2, 0).cpu().numpy())\n",
    "plt.show()\n",
    "depth = (depth - depth.min()) / (depth.max() - depth.min())\n",
    "plt.imshow(depth.permute(1, 2, 0).cpu().numpy(), cmap=\"gray\")\n",
    "plt.show()"
   ]
  },
  {
   "cell_type": "code",
   "execution_count": null,
   "metadata": {},
   "outputs": [],
   "source": []
  },
  {
   "cell_type": "code",
   "execution_count": null,
   "metadata": {},
   "outputs": [],
   "source": []
  }
 ],
 "metadata": {
  "kernelspec": {
   "display_name": "gaussiansplatting",
   "language": "python",
   "name": "python3"
  },
  "language_info": {
   "codemirror_mode": {
    "name": "ipython",
    "version": 3
   },
   "file_extension": ".py",
   "mimetype": "text/x-python",
   "name": "python",
   "nbconvert_exporter": "python",
   "pygments_lexer": "ipython3",
   "version": "3.11.6"
  }
 },
 "nbformat": 4,
 "nbformat_minor": 2
}
