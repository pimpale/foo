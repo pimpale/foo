{
 "cells": [
  {
   "cell_type": "code",
   "execution_count": 35,
   "metadata": {},
   "outputs": [],
   "source": [
    "import numpy as np\n",
    "from scipy.stats import multivariate_normal, norm\n",
    "import matplotlib.pyplot as plt\n",
    "from ipywidgets import interact\n",
    "import ipywidgets as widgets\n",
    "\n",
    "import diff_gaussian_rasterization\n",
    "import diff_gaussian_rasterization_batched as dgrb\n",
    "import torch\n",
    "import pyquaternion\n",
    "import os\n",
    "import math\n",
    "import glm\n",
    "import matplotlib.pyplot as plt"
   ]
  },
  {
   "cell_type": "code",
   "execution_count": 36,
   "metadata": {},
   "outputs": [
    {
     "data": {
      "application/vnd.jupyter.widget-view+json": {
       "model_id": "6610ba813c2a4c8994eb17cb8fc50476",
       "version_major": 2,
       "version_minor": 0
      },
      "text/plain": [
       "interactive(children=(FloatSlider(value=1.0, description='sx', max=10.0, min=0.1), FloatSlider(value=1.0, desc…"
      ]
     },
     "metadata": {},
     "output_type": "display_data"
    }
   ],
   "source": [
    "@interact(\n",
    "        sx=widgets.FloatSlider(min=0.1, max=10, value=1),\n",
    "        sy=widgets.FloatSlider(min=0.1, max=10, value=1),\n",
    "        r=widgets.FloatSlider(min=0, max=2*np.pi, value=0),\n",
    "        cutoff=widgets.FloatSlider(min=0.0, max=1, value=0.1)\n",
    ")\n",
    "def g(sx, sy, r, cutoff):\n",
    "    x = np.linspace(-10,10,100)\n",
    "    y = np.linspace(-10,10,100)\n",
    "    X, Y = np.meshgrid(x,y)\n",
    "\n",
    "    S = np.array([[sx, 0], [0, sy]])\n",
    "    R = np.array([[np.cos(r), -np.sin(r)], [np.sin(r), np.cos(r)]])\n",
    "    Sigma = R @ S @ S.T @ R.T\n",
    "\n",
    "    for dim in range(2):\n",
    "        scale = np.sqrt(Sigma[dim, dim])\n",
    "        line = norm.ppf(cutoff, loc=0, scale=scale)\n",
    "        if dim == 0:\n",
    "            plt.vlines([line], -10, 10, colors='r')\n",
    "        elif dim == 1:\n",
    "            plt.hlines([line], -10, 10, colors='r')\n",
    "\n",
    "\n",
    "    Z = multivariate_normal.pdf(np.dstack((X, Y)), mean=[0, 0], cov=Sigma)\n",
    "    plt.contourf(X, Y, Z)\n",
    "    plt.show()"
   ]
  },
  {
   "cell_type": "code",
   "execution_count": 37,
   "metadata": {},
   "outputs": [],
   "source": [
    "device = torch.device(\"cuda\")\n",
    "\n",
    "# generate a random point cloud\n",
    "C = 3\n",
    "B = 1\n",
    "N = 100\n",
    "means3D = torch.cat(\n",
    "    [\n",
    "        torch.rand(B, N, 1, dtype=torch.float32, device=device) * 2 - 1,\n",
    "        torch.rand(B, N, 1, dtype=torch.float32, device=device) * 2 - 1,\n",
    "        torch.rand(B, N, 1, dtype=torch.float32, device=device) * 2 - 1,\n",
    "    ],\n",
    "    dim=2,\n",
    ")\n",
    "means2D = torch.zeros(B, N, 2, dtype=torch.float32, device=device)\n",
    "opacities = torch.ones(B, N, 1, dtype=torch.float32, device=device)\n",
    "scales = torch.ones(B, N, 3, dtype=torch.float32, device=device) * 0.1\n",
    "rotations = (\n",
    "    torch.from_numpy(np.stack([pyquaternion.Quaternion().elements for _ in range(N)]))\n",
    "    .to(torch.float32)\n",
    "    .to(device)\n",
    "    .expand(B, N, 4)\n",
    ")\n",
    "colors_precomp = torch.rand(B, N, C, dtype=torch.float32, device=device)"
   ]
  },
  {
   "cell_type": "code",
   "execution_count": 39,
   "metadata": {},
   "outputs": [
    {
     "data": {
      "application/vnd.jupyter.widget-view+json": {
       "model_id": "fb549b6fec14449da9a6e0c424fcebd4",
       "version_major": 2,
       "version_minor": 0
      },
      "text/plain": [
       "interactive(children=(FloatSlider(value=60.0, description='fov', max=179.0, min=1.0), FloatSlider(value=0.0, d…"
      ]
     },
     "metadata": {},
     "output_type": "display_data"
    }
   ],
   "source": [
    "def get_eye(theta, phi, r):\n",
    "    \"\"\"Get the position of the camera.\n",
    "\n",
    "    Args:\n",
    "        theta (float): azimuth angle in radians\n",
    "        phi (float): elevation angle in degrees\n",
    "        r (float): distance of the camera from the origin\n",
    "\n",
    "    Returns:\n",
    "        torch.Tensor: position of the camera\n",
    "    \"\"\"\n",
    "    s = [\n",
    "            r * math.sin(phi) * math.cos(theta),\n",
    "            r * math.sin(phi) * math.sin(theta),\n",
    "            r * math.cos(phi),\n",
    "    ]\n",
    "\n",
    "    return [s[0], s[1], s[2]]\n",
    "\n",
    "\n",
    "\n",
    "def toTensor(m: glm.mat4) -> torch.Tensor:\n",
    "    return torch.tensor(m.to_list(), dtype=torch.float32, device=device)\n",
    "\n",
    "\n",
    "@interact(\n",
    "        fov=widgets.FloatSlider(min=1, max=179, value=60),\n",
    "        azimuth=widgets.FloatSlider(min=-180, max=180, value=0),\n",
    "        elevation=widgets.FloatSlider(min=-89, max=89, value=0),\n",
    "        radius=widgets.FloatSlider(min=0.01, max=20, value=0),\n",
    ")\n",
    "def g(fov, azimuth, elevation, radius):\n",
    "    FoVx = np.deg2rad(fov)\n",
    "    FoVy = np.deg2rad(fov)\n",
    "\n",
    "    eye = get_eye(np.deg2rad(elevation), np.deg2rad(azimuth), radius)\n",
    "\n",
    "    print(eye)\n",
    "\n",
    "    rasterizer = dgrb.GaussianRasterizer(\n",
    "        dgrb.GaussianRasterizationSettings(\n",
    "            image_channels=C,\n",
    "            image_height=512,\n",
    "            image_width=512,\n",
    "            tanfovx=math.tan(FoVx * 0.5),\n",
    "            tanfovy=math.tan(FoVy * 0.5),\n",
    "            bg=torch.zeros(C, dtype=torch.float32, device=device),\n",
    "            scale_modifier=1.0,\n",
    "            projmatrix=toTensor(glm.perspective(FoVy, 1, 0.2, 100)),\n",
    "            sh_degree=1,\n",
    "            campos=torch.tensor([0, 0, 0], dtype=torch.float32, device=device),\n",
    "            prefiltered=False,\n",
    "            debug=True,\n",
    "        )\n",
    "    )\n",
    "\n",
    "    rendered_image, radii = rasterizer(\n",
    "        means3D=means3D,\n",
    "        means2D=means2D,\n",
    "        colors_precomp=colors_precomp,\n",
    "        opacities=opacities,\n",
    "        scales=scales,\n",
    "        rotations=rotations,\n",
    "        viewmatrixes=toTensor(\n",
    "            glm.scale([1, 1, -1]) * glm.lookAt(eye, [0, 0, 0], [0, 1, 0])\n",
    "        ).expand(B, 4, 4),\n",
    "    )\n",
    "\n",
    "    # display the rendered image\n",
    "    image_batch = rendered_image.permute(0, 2, 3, 1).cpu().numpy()\n",
    "    batches = image_batch.shape[0]\n",
    "    fig, ax = plt.subplots(batches, 1, figsize=(10, 10), squeeze=False)\n",
    "    for i in range(batches):\n",
    "        ax[i, 0].imshow(image_batch[i])\n",
    "        ax[i, 0].axis(\"off\")"
   ]
  },
  {
   "cell_type": "code",
   "execution_count": null,
   "metadata": {},
   "outputs": [],
   "source": []
  },
  {
   "cell_type": "code",
   "execution_count": null,
   "metadata": {},
   "outputs": [],
   "source": []
  }
 ],
 "metadata": {
  "kernelspec": {
   "display_name": "25dgsplat",
   "language": "python",
   "name": "python3"
  },
  "language_info": {
   "codemirror_mode": {
    "name": "ipython",
    "version": 3
   },
   "file_extension": ".py",
   "mimetype": "text/x-python",
   "name": "python",
   "nbconvert_exporter": "python",
   "pygments_lexer": "ipython3",
   "version": "3.10.0"
  }
 },
 "nbformat": 4,
 "nbformat_minor": 2
}
