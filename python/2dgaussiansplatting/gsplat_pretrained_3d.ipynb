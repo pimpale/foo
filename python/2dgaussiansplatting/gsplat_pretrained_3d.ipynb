{
 "cells": [
  {
   "cell_type": "code",
   "execution_count": 1,
   "metadata": {},
   "outputs": [],
   "source": [
    "import numpy as np\n",
    "from scipy.stats import multivariate_normal, norm\n",
    "import matplotlib.pyplot as plt\n",
    "from ipywidgets import interact\n",
    "import ipywidgets as widgets\n",
    "\n",
    "import diff_gaussian_rasterization\n",
    "import diff_gaussian_rasterization_batched as dgrb\n",
    "import torch\n",
    "import pyquaternion\n",
    "import os\n",
    "import math\n",
    "import glm\n",
    "import matplotlib.pyplot as plt\n",
    "from plyfile import PlyData, PlyElement"
   ]
  },
  {
   "cell_type": "code",
   "execution_count": 2,
   "metadata": {},
   "outputs": [],
   "source": [
    "def sigmoid(x):\n",
    "    return 1 / (1 + np.exp(-x))\n",
    "\n",
    "def open_ply(file_path, max_points=1_000_000):\n",
    "    file_path = os.path.expanduser(file_path)\n",
    "    with open(file_path, 'rb') as f:\n",
    "        plydata = PlyData.read(f)\n",
    "\n",
    "    vertexes = plydata['vertex']\n",
    "\n",
    "    print(\"n points:\", len(vertexes))\n",
    "\n",
    "    if max_points is not None:\n",
    "        vertexes = vertexes[:max_points]\n",
    "\n",
    "    scale_0 = np.array(vertexes['scale_0'])\n",
    "    scale_1 = np.array(vertexes['scale_1'])\n",
    "    scale_2 = np.array(vertexes['scale_2'])\n",
    "\n",
    "    scale = np.exp(np.array([scale_0, scale_1, scale_2]).T)\n",
    "\n",
    "    x = np.array(vertexes['x'])\n",
    "    y = np.array(vertexes['y'])\n",
    "    z = np.array(vertexes['z'])\n",
    "\n",
    "    means3D = np.array([x, y, z]).T\n",
    "\n",
    "    r = np.array(vertexes['f_dc_0'])\n",
    "    g = np.array(vertexes['f_dc_1'])\n",
    "    b = np.array(vertexes['f_dc_2'])\n",
    "\n",
    "    colors = sigmoid(np.array([r, g, b]).T)\n",
    "\n",
    "    rot_0 = np.array(vertexes['rot_0'])\n",
    "    rot_1 = np.array(vertexes['rot_1'])\n",
    "    rot_2 = np.array(vertexes['rot_2'])\n",
    "    rot_3 = np.array(vertexes['rot_3'])\n",
    "\n",
    "    rotations = np.array([rot_0, rot_1, rot_2, rot_3]).T\n",
    "\n",
    "    opacity = sigmoid(np.array(vertexes['opacity']))\n",
    "\n",
    "    return  {\n",
    "        \"means3D\": means3D,\n",
    "        \"scale\": scale,\n",
    "        \"colors\": colors,\n",
    "        \"rotations\": rotations,\n",
    "        \"opacity\": opacity\n",
    "    }\n"
   ]
  },
  {
   "cell_type": "code",
   "execution_count": 4,
   "metadata": {},
   "outputs": [
    {
     "ename": "FileNotFoundError",
     "evalue": "[Errno 2] No such file or directory: '~/dtu_scan105_2d.ply'",
     "output_type": "error",
     "traceback": [
      "\u001b[0;31m---------------------------------------------------------------------------\u001b[0m",
      "\u001b[0;31mFileNotFoundError\u001b[0m                         Traceback (most recent call last)",
      "Cell \u001b[0;32mIn[4], line 26\u001b[0m\n\u001b[1;32m      1\u001b[0m device \u001b[38;5;241m=\u001b[39m torch\u001b[38;5;241m.\u001b[39mdevice(\u001b[38;5;124m\"\u001b[39m\u001b[38;5;124mcuda\u001b[39m\u001b[38;5;124m\"\u001b[39m)\n\u001b[1;32m      3\u001b[0m \u001b[38;5;66;03m# # generate a random point cloud\u001b[39;00m\n\u001b[1;32m      4\u001b[0m \u001b[38;5;66;03m# C = 3\u001b[39;00m\n\u001b[1;32m      5\u001b[0m \u001b[38;5;66;03m# B = 1\u001b[39;00m\n\u001b[0;32m   (...)\u001b[0m\n\u001b[1;32m     23\u001b[0m \u001b[38;5;66;03m# )\u001b[39;00m\n\u001b[1;32m     24\u001b[0m \u001b[38;5;66;03m# colors_precomp = torch.rand(B, N, C, dtype=torch.float32, device=device)\u001b[39;00m\n\u001b[0;32m---> 26\u001b[0m ply_data \u001b[38;5;241m=\u001b[39m \u001b[43mopen_ply\u001b[49m\u001b[43m(\u001b[49m\u001b[38;5;124;43m\"\u001b[39;49m\u001b[38;5;124;43m~/dtu_scan105_2d.ply\u001b[39;49m\u001b[38;5;124;43m\"\u001b[39;49m\u001b[43m,\u001b[49m\u001b[43m \u001b[49m\u001b[43mmax_points\u001b[49m\u001b[38;5;241;43m=\u001b[39;49m\u001b[38;5;28;43;01mNone\u001b[39;49;00m\u001b[43m)\u001b[49m\n\u001b[1;32m     28\u001b[0m \u001b[38;5;66;03m# load a point cloud\u001b[39;00m\n\u001b[1;32m     29\u001b[0m C \u001b[38;5;241m=\u001b[39m ply_data[\u001b[38;5;124m\"\u001b[39m\u001b[38;5;124mcolors\u001b[39m\u001b[38;5;124m\"\u001b[39m]\u001b[38;5;241m.\u001b[39mshape[\u001b[38;5;241m1\u001b[39m]\n",
      "Cell \u001b[0;32mIn[2], line 5\u001b[0m, in \u001b[0;36mopen_ply\u001b[0;34m(file_path, max_points)\u001b[0m\n\u001b[1;32m      4\u001b[0m \u001b[38;5;28;01mdef\u001b[39;00m \u001b[38;5;21mopen_ply\u001b[39m(file_path, max_points\u001b[38;5;241m=\u001b[39m\u001b[38;5;241m1_000_000\u001b[39m):\n\u001b[0;32m----> 5\u001b[0m     \u001b[38;5;28;01mwith\u001b[39;00m \u001b[38;5;28;43mopen\u001b[39;49m\u001b[43m(\u001b[49m\u001b[43mfile_path\u001b[49m\u001b[43m,\u001b[49m\u001b[43m \u001b[49m\u001b[38;5;124;43m'\u001b[39;49m\u001b[38;5;124;43mrb\u001b[39;49m\u001b[38;5;124;43m'\u001b[39;49m\u001b[43m)\u001b[49m \u001b[38;5;28;01mas\u001b[39;00m f:\n\u001b[1;32m      6\u001b[0m         plydata \u001b[38;5;241m=\u001b[39m PlyData\u001b[38;5;241m.\u001b[39mread(f)\n\u001b[1;32m      8\u001b[0m     vertexes \u001b[38;5;241m=\u001b[39m plydata[\u001b[38;5;124m'\u001b[39m\u001b[38;5;124mvertex\u001b[39m\u001b[38;5;124m'\u001b[39m]\n",
      "File \u001b[0;32m~/.conda/envs/dreaminstancing/lib/python3.9/site-packages/IPython/core/interactiveshell.py:310\u001b[0m, in \u001b[0;36m_modified_open\u001b[0;34m(file, *args, **kwargs)\u001b[0m\n\u001b[1;32m    303\u001b[0m \u001b[38;5;28;01mif\u001b[39;00m file \u001b[38;5;129;01min\u001b[39;00m {\u001b[38;5;241m0\u001b[39m, \u001b[38;5;241m1\u001b[39m, \u001b[38;5;241m2\u001b[39m}:\n\u001b[1;32m    304\u001b[0m     \u001b[38;5;28;01mraise\u001b[39;00m \u001b[38;5;167;01mValueError\u001b[39;00m(\n\u001b[1;32m    305\u001b[0m         \u001b[38;5;124mf\u001b[39m\u001b[38;5;124m\"\u001b[39m\u001b[38;5;124mIPython won\u001b[39m\u001b[38;5;124m'\u001b[39m\u001b[38;5;124mt let you open fd=\u001b[39m\u001b[38;5;132;01m{\u001b[39;00mfile\u001b[38;5;132;01m}\u001b[39;00m\u001b[38;5;124m by default \u001b[39m\u001b[38;5;124m\"\u001b[39m\n\u001b[1;32m    306\u001b[0m         \u001b[38;5;124m\"\u001b[39m\u001b[38;5;124mas it is likely to crash IPython. If you know what you are doing, \u001b[39m\u001b[38;5;124m\"\u001b[39m\n\u001b[1;32m    307\u001b[0m         \u001b[38;5;124m\"\u001b[39m\u001b[38;5;124myou can use builtins\u001b[39m\u001b[38;5;124m'\u001b[39m\u001b[38;5;124m open.\u001b[39m\u001b[38;5;124m\"\u001b[39m\n\u001b[1;32m    308\u001b[0m     )\n\u001b[0;32m--> 310\u001b[0m \u001b[38;5;28;01mreturn\u001b[39;00m \u001b[43mio_open\u001b[49m\u001b[43m(\u001b[49m\u001b[43mfile\u001b[49m\u001b[43m,\u001b[49m\u001b[43m \u001b[49m\u001b[38;5;241;43m*\u001b[39;49m\u001b[43margs\u001b[49m\u001b[43m,\u001b[49m\u001b[43m \u001b[49m\u001b[38;5;241;43m*\u001b[39;49m\u001b[38;5;241;43m*\u001b[39;49m\u001b[43mkwargs\u001b[49m\u001b[43m)\u001b[49m\n",
      "\u001b[0;31mFileNotFoundError\u001b[0m: [Errno 2] No such file or directory: '~/dtu_scan105_2d.ply'"
     ]
    }
   ],
   "source": [
    "device = torch.device(\"cuda\")\n",
    "\n",
    "# # generate a random point cloud\n",
    "# C = 3\n",
    "# B = 1\n",
    "# N = 100\n",
    "# means3D = torch.cat(\n",
    "#     [\n",
    "#         torch.rand(B, N, 1, dtype=torch.float32, device=device) * 2 - 1,\n",
    "#         torch.rand(B, N, 1, dtype=torch.float32, device=device) * 2 - 1,\n",
    "#         torch.rand(B, N, 1, dtype=torch.float32, device=device) * 2 - 1,\n",
    "#     ],\n",
    "#     dim=2,\n",
    "# )\n",
    "# means2D = torch.zeros(B, N, 2, dtype=torch.float32, device=device)\n",
    "# opacities = torch.ones(B, N, 1, dtype=torch.float32, device=device)\n",
    "# scales = torch.ones(B, N, 3, dtype=torch.float32, device=device) * 0.1\n",
    "# rotations = (\n",
    "#     torch.from_numpy(np.stack([pyquaternion.Quaternion().elements for _ in range(N)]))\n",
    "#     .to(torch.float32)\n",
    "#     .to(device)\n",
    "#     .expand(B, N, 4)\n",
    "# )\n",
    "# colors_precomp = torch.rand(B, N, C, dtype=torch.float32, device=device)\n",
    "\n",
    "ply_data = open_ply(\"~/dtu_scan105_2d.ply\", max_points=None)\n",
    "\n",
    "# load a point cloud\n",
    "C = ply_data[\"colors\"].shape[1]\n",
    "B = 1\n",
    "N = ply_data[\"means3D\"].shape[0]\n",
    "means3D = torch.tensor(ply_data[\"means3D\"], dtype=torch.float32, device=device).expand(B, N, 3)\n",
    "means2D = torch.zeros(B, N, 2, dtype=torch.float32, device=device)\n",
    "opacities = torch.tensor(ply_data[\"opacity\"], dtype=torch.float32, device=device).unsqueeze(-1).expand(B, N, 1)\n",
    "scales = torch.tensor(ply_data[\"scale\"], dtype=torch.float32, device=device).expand(B, N, 3)\n",
    "rotations = (\n",
    "    torch.from_numpy(np.stack([pyquaternion.Quaternion().elements for _ in range(N)]))\n",
    "    .to(torch.float32)\n",
    "    .to(device)\n",
    "    .expand(B, N, 4)\n",
    ")\n",
    "colors_precomp = torch.tensor(ply_data[\"colors\"], dtype=torch.float32, device=device).expand(B, N, C)"
   ]
  },
  {
   "cell_type": "code",
   "execution_count": null,
   "metadata": {},
   "outputs": [
    {
     "name": "stdout",
     "output_type": "stream",
     "text": [
      "means3D torch.Size([1, 215157, 3])\n",
      "means2D torch.Size([1, 215157, 2])\n",
      "opacities torch.Size([1, 215157, 1])\n",
      "scales torch.Size([1, 215157, 3])\n",
      "rotations torch.Size([1, 215157, 4])\n",
      "colors_precomp torch.Size([1, 215157, 3])\n"
     ]
    }
   ],
   "source": [
    "print(\"means3D\", means3D.shape)\n",
    "print(\"means2D\", means2D.shape)\n",
    "print(\"opacities\", opacities.shape)\n",
    "print(\"scales\", scales.shape)\n",
    "print(\"rotations\", rotations.shape)\n",
    "print(\"colors_precomp\", colors_precomp.shape)"
   ]
  },
  {
   "cell_type": "code",
   "execution_count": null,
   "metadata": {},
   "outputs": [
    {
     "data": {
      "image/png": "[encoded data removed]",
      "text/plain": [
       "<Figure size 640x480 with 1 Axes>"
      ]
     },
     "metadata": {},
     "output_type": "display_data"
    },
    {
     "data": {
      "image/png": "[encoded data removed]",
      "text/plain": [
       "<Figure size 640x480 with 1 Axes>"
      ]
     },
     "metadata": {},
     "output_type": "display_data"
    },
    {
     "data": {
      "image/png": "[encoded data removed]",
      "text/plain": [
       "<Figure size 640x480 with 1 Axes>"
      ]
     },
     "metadata": {},
     "output_type": "display_data"
    }
   ],
   "source": [
    "plt.hist(ply_data[\"scale\"][:, 0], bins=100)\n",
    "plt.show()\n",
    "plt.hist(ply_data[\"scale\"][:, 1], bins=100)\n",
    "plt.show()\n",
    "plt.hist(ply_data[\"scale\"][:, 2], bins=100)\n",
    "plt.show()"
   ]
  },
  {
   "cell_type": "code",
   "execution_count": null,
   "metadata": {},
   "outputs": [
    {
     "data": {
      "application/vnd.jupyter.widget-view+json": {
       "model_id": "1e0c222c88f04e4c932584053c0dc144",
       "version_major": 2,
       "version_minor": 0
      },
      "text/plain": [
       "interactive(children=(FloatSlider(value=60.0, description='fov', max=179.0, min=1.0), FloatSlider(value=0.0, d…"
      ]
     },
     "metadata": {},
     "output_type": "display_data"
    }
   ],
   "source": [
    "def get_eye(theta, phi, r):\n",
    "    \"\"\"Get the position of the camera.\n",
    "\n",
    "    Args:\n",
    "        theta (float): azimuth angle in radians\n",
    "        phi (float): elevation angle in degrees\n",
    "        r (float): distance of the camera from the origin\n",
    "\n",
    "    Returns:\n",
    "        torch.Tensor: position of the camera\n",
    "    \"\"\"\n",
    "    s = [\n",
    "            r * math.sin(phi) * math.cos(theta),\n",
    "            r * math.cos(phi),\n",
    "            r * math.sin(phi) * math.sin(theta),\n",
    "    ]\n",
    "\n",
    "    return [s[0], s[1], s[2]]\n",
    "\n",
    "\n",
    "\n",
    "def toTensor(m: glm.mat4) -> torch.Tensor:\n",
    "    return torch.tensor(m.to_list(), dtype=torch.float32, device=device)\n",
    "\n",
    "\n",
    "@interact(\n",
    "        fov=widgets.FloatSlider(min=1, max=179, value=60),\n",
    "        azimuth=widgets.FloatSlider(min=-180, max=180, value=0),\n",
    "        elevation=widgets.FloatSlider(min=-89, max=89, value=0),\n",
    "        radius=widgets.FloatSlider(min=0.01, max=20, value=0),\n",
    ")\n",
    "def g(fov, azimuth, elevation, radius):\n",
    "    FoVx = np.deg2rad(fov)\n",
    "    FoVy = np.deg2rad(fov)\n",
    "\n",
    "    eye = get_eye(np.deg2rad(azimuth), np.deg2rad(elevation), radius)\n",
    "\n",
    "    print(eye)\n",
    "\n",
    "    rasterizer = dgrb.GaussianRasterizer(\n",
    "        dgrb.GaussianRasterizationSettings(\n",
    "            image_channels=C,\n",
    "            image_height=512,\n",
    "            image_width=512,\n",
    "            tanfovx=math.tan(FoVx * 0.5),\n",
    "            tanfovy=math.tan(FoVy * 0.5),\n",
    "            bg=torch.zeros(C, dtype=torch.float32, device=device),\n",
    "            scale_modifier=1.0,\n",
    "            projmatrix=toTensor(glm.perspective(FoVy, 1, 0.2, 100)),\n",
    "            sh_degree=1,\n",
    "            campos=torch.tensor([0, 0, 0], dtype=torch.float32, device=device),\n",
    "            prefiltered=False,\n",
    "            debug=True,\n",
    "        )\n",
    "    )\n",
    "\n",
    "    rendered_image, radii = rasterizer(\n",
    "        means3D=means3D,\n",
    "        means2D=means2D,\n",
    "        colors_precomp=colors_precomp,\n",
    "        opacities=opacities,\n",
    "        scales=scales,\n",
    "        rotations=rotations,\n",
    "        viewmatrixes=toTensor(\n",
    "            glm.scale([1, 1, -1]) * glm.lookAt(eye, [0, 0, 0], [0, 0, 1])\n",
    "        ).expand(B, 4, 4),\n",
    "    )\n",
    "\n",
    "    # display the rendered image\n",
    "    image_batch = rendered_image.permute(0, 2, 3, 1).cpu().numpy()\n",
    "    batches = image_batch.shape[0]\n",
    "    fig, ax = plt.subplots(batches, 1, figsize=(10, 10), squeeze=False)\n",
    "    for i in range(batches):\n",
    "        ax[i, 0].imshow(image_batch[i])\n",
    "        ax[i, 0].axis(\"off\")"
   ]
  },
  {
   "cell_type": "code",
   "execution_count": null,
   "metadata": {},
   "outputs": [],
   "source": []
  }
 ],
 "metadata": {
  "kernelspec": {
   "display_name": "25dgsplat310",
   "language": "python",
   "name": "python3"
  },
  "language_info": {
   "codemirror_mode": {
    "name": "ipython",
    "version": 3
   },
   "file_extension": ".py",
   "mimetype": "text/x-python",
   "name": "python",
   "nbconvert_exporter": "python",
   "pygments_lexer": "ipython3",
   "version": "3.9.18"
  }
 },
 "nbformat": 4,
 "nbformat_minor": 2
}
