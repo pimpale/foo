{
 "cells": [
  {
   "cell_type": "markdown",
   "metadata": {},
   "source": [
    "# Generate Convolutional Layers by Splatting Gaussians"
   ]
  },
  {
   "cell_type": "code",
   "execution_count": null,
   "metadata": {},
   "outputs": [],
   "source": [
    "import torch\n",
    "import torch.nn as nn\n",
    "import torch.nn.functional as F\n",
    "import numpy as np\n",
    "import os\n",
    "import glm\n",
    "import math\n",
    "import matplotlib.pyplot as plt\n",
    "import diff_gaussian_rasterization_batched as dgrb"
   ]
  },
  {
   "cell_type": "code",
   "execution_count": null,
   "metadata": {},
   "outputs": [],
   "source": [
    "device = torch.device(\"cuda\")"
   ]
  },
  {
   "cell_type": "code",
   "execution_count": null,
   "metadata": {},
   "outputs": [],
   "source": [
    "class GaussianSplattingLayer(nn.Module):\n",
    "    @staticmethod\n",
    "    def construct_renderer() -> dgrb.GaussianRasterizer:\n",
    "        FoVx = 90.0\n",
    "        FoVy = 90.0\n",
    "        return dgrb.GaussianRasterizer(\n",
    "            dgrb.GaussianRasterizationSettings(\n",
    "            image_height=64,\n",
    "            image_width=64,\n",
    "            tanfovx=math.tan(FoVx * 0.5),\n",
    "            tanfovy=math.tan(FoVy * 0.5),\n",
    "            bg=torch.zeros(3, dtype=torch.float32, device=device),\n",
    "            scale_modifier=1.0,\n",
    "            viewmatrix=torch.eye(4, dtype=torch.float32, device=device),\n",
    "            projmatrix=gen_orthographic_matrix(-1, 1, -1, 1, -1, 1).to(device),\n",
    "            sh_degree=1,\n",
    "            campos=torch.tensor([0, 0, 0], dtype=torch.float32, device=device),\n",
    "            prefiltered=False,\n",
    "            debug=False,\n",
    "        )\n",
    "        )\n",
    "    \n",
    "    \n",
    "    def __init__(self, in_channels:int, out_channels:int, n_gaussians_per_layer:int)\n",
    "        super(GaussianSplattingLayer, self).__init__()\n",
    "        self.in_channels = in_channels\n",
    "        self.out_channels = out_channels\n",
    "        self.n_gaussians_per_layer = n_gaussians_per_layer\n",
    "        \n",
    "        renderers = [construct_renderer() for _ in range(n_gaussians_per_layer)]"
   ]
  }
 ],
 "metadata": {
  "kernelspec": {
   "display_name": "gsplat",
   "language": "python",
   "name": "python3"
  },
  "language_info": {
   "name": "python",
   "version": "3.11.6"
  }
 },
 "nbformat": 4,
 "nbformat_minor": 2
}
