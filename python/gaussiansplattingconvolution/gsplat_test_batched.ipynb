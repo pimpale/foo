{
 "cells": [
  {
   "cell_type": "code",
   "execution_count": 1,
   "metadata": {},
   "outputs": [],
   "source": [
    "import torch\n",
    "import numpy as np\n",
    "import pyquaternion\n",
    "import os\n",
    "import math\n",
    "import matplotlib.pyplot as plt\n",
    "import diff_gaussian_rasterization_batched as dgrb"
   ]
  },
  {
   "cell_type": "code",
   "execution_count": 2,
   "metadata": {},
   "outputs": [],
   "source": [
    "device = torch.device(\"cuda\")\n",
    "\n",
    "# generate a random point cloud\n",
    "B = 1\n",
    "N = 10\n",
    "means3D = torch.cat(\n",
    "    [\n",
    "        torch.rand(B, N, 1, dtype=torch.float32, device=device) * 2 - 1,\n",
    "        torch.rand(B, N, 1, dtype=torch.float32, device=device) * 2 - 1,\n",
    "        torch.zeros(B, N, 1, dtype=torch.float32, device=device)+1,\n",
    "    ],\n",
    "    dim=2,\n",
    ")\n",
    "means2D = torch.zeros(B, N, 2, dtype=torch.float32, device=device)\n",
    "opacities = torch.ones(B, N, 1, dtype=torch.float32, device=device)\n",
    "scales = torch.ones(B, N, 3, dtype=torch.float32, device=device) * 0.1\n",
    "rotations = (\n",
    "    torch.from_numpy(np.stack([pyquaternion.Quaternion().elements for _ in range(N)]))\n",
    "    .to(torch.float32)\n",
    "    .to(device)\n",
    "    .expand(B, N, 4)\n",
    ")\n",
    "colors_precomp = torch.rand(B, N, 3, dtype=torch.float32, device=device)"
   ]
  },
  {
   "cell_type": "code",
   "execution_count": 3,
   "metadata": {},
   "outputs": [
    {
     "data": {
      "text/plain": [
       "tensor([[[-0.0575, -0.3520,  1.0000],\n",
       "         [ 0.0944, -0.6777,  1.0000],\n",
       "         [ 0.9592, -0.7279,  1.0000],\n",
       "         [-0.8777, -0.1630,  1.0000],\n",
       "         [-0.3443,  0.4699,  1.0000],\n",
       "         [ 0.5650,  0.4616,  1.0000],\n",
       "         [-0.7758,  0.7231,  1.0000],\n",
       "         [-0.9141, -0.9984,  1.0000],\n",
       "         [ 0.1764, -0.4082,  1.0000],\n",
       "         [-0.0815, -0.2205,  1.0000]]], device='cuda:0')"
      ]
     },
     "execution_count": 3,
     "metadata": {},
     "output_type": "execute_result"
    }
   ],
   "source": [
    "means3D"
   ]
  },
  {
   "cell_type": "code",
   "execution_count": 4,
   "metadata": {},
   "outputs": [],
   "source": [
    "# generate the projection matrix (orthographic)\n",
    "\n",
    "def gen_orthographic_matrix(left: float, right: float, bottom: float, top: float, near: float, far: float):\n",
    "    \"\"\"Generate orthographic projection matrix.\n",
    "\n",
    "    Args:\n",
    "        left (float): left plane\n",
    "        right (float): right plane\n",
    "        bottom (float): bottom plane\n",
    "        top (float): top plane\n",
    "        near (float): near plane\n",
    "        far (float): far plane\n",
    "\n",
    "    Returns:\n",
    "        torch.Tensor: orthographic projection matrix\n",
    "    \"\"\"\n",
    "    return torch.tensor([\n",
    "        [2 / (right - left), 0, 0, -(right + left) / (right - left)],\n",
    "        [0, 2 / (top - bottom), 0, -(top + bottom) / (top - bottom)],\n",
    "        [0, 0, -2 / (far - near), -(far + near) / (far - near)],\n",
    "        [0, 0, 0, 1],\n",
    "    ])"
   ]
  },
  {
   "cell_type": "code",
   "execution_count": 5,
   "metadata": {},
   "outputs": [
    {
     "ename": "",
     "evalue": "",
     "output_type": "error",
     "traceback": [
      "\u001b[1;31mThe Kernel crashed while executing code in the current cell or a previous cell. Please review the code in the cell(s) to identify a possible cause of the failure. Click <a href='https://aka.ms/vscodeJupyterKernelCrash'>here</a> for more info. View Jupyter <a href='command:jupyter.viewOutput'>log</a> for further details."
     ]
    }
   ],
   "source": [
    "FoVx = 90\n",
    "FoVy = 90\n",
    "\n",
    "raster_settings = dgrb.GaussianRasterizationSettings(\n",
    "    image_height=512,\n",
    "    image_width=512,\n",
    "    tanfovx=math.tan(FoVx * 0.5),\n",
    "    tanfovy=math.tan(FoVy * 0.5),\n",
    "    bg=torch.zeros(3, dtype=torch.float32, device=device),\n",
    "    scale_modifier=1.0,\n",
    "    viewmatrix=torch.eye(4, dtype=torch.float32, device=device),\n",
    "    projmatrix=gen_orthographic_matrix(-1, 1, -1, 1, -1, 1).to(device),\n",
    "    sh_degree=1,\n",
    "    campos=torch.tensor([0, 0, 0], dtype=torch.float32, device=device),\n",
    "    prefiltered=False,\n",
    "    debug=True,\n",
    ")\n",
    "\n",
    "rasterizer = dgrb.GaussianRasterizer(raster_settings=raster_settings)\n",
    "\n",
    "rendered_image, radii = rasterizer(\n",
    "    means3D=means3D,\n",
    "    means2D=means2D,\n",
    "    colors_precomp=colors_precomp,\n",
    "    opacities=opacities,\n",
    "    scales=scales,\n",
    "    rotations=rotations,\n",
    ")\n"
   ]
  },
  {
   "cell_type": "code",
   "execution_count": null,
   "metadata": {},
   "outputs": [],
   "source": [
    "# display the rendered image\n",
    "image_batch = rendered_image.permute(0, 2, 3, 1).cpu().numpy()\n",
    "batches = image_batch.shape[0]\n",
    "fig, ax = plt.subplots(batches, 1, figsize=(10, 10))\n",
    "for i in range(batches):\n",
    "    ax[i].imshow(image_batch[i])\n",
    "    ax[i].axis(\"off\")"
   ]
  }
 ],
 "metadata": {
  "kernelspec": {
   "display_name": "infgen",
   "language": "python",
   "name": "python3"
  },
  "language_info": {
   "codemirror_mode": {
    "name": "ipython",
    "version": 3
   },
   "file_extension": ".py",
   "mimetype": "text/x-python",
   "name": "python",
   "nbconvert_exporter": "python",
   "pygments_lexer": "ipython3",
   "version": "3.11.6"
  }
 },
 "nbformat": 4,
 "nbformat_minor": 2
}
