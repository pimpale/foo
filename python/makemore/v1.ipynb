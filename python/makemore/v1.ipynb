{
 "cells": [
  {
   "cell_type": "code",
   "execution_count": 15,
   "metadata": {},
   "outputs": [],
   "source": [
    "with open('./names.txt', 'r') as file:\n",
    "    lines = file.readlines()"
   ]
  },
  {
   "cell_type": "code",
   "execution_count": 16,
   "metadata": {},
   "outputs": [],
   "source": [
    "\n",
    "charset = sorted(list(set(''.join(lines))))\n",
    "c2i = {c:i+1 for i,c in enumerate(charset)}\n",
    "c2i['.'] = 0\n",
    "\n",
    "i2c = {v:k for k,v in c2i.items()}\n"
   ]
  },
  {
   "cell_type": "code",
   "execution_count": 17,
   "metadata": {},
   "outputs": [],
   "source": [
    "import torch\n",
    "\n",
    "S = len(c2i)\n",
    "\n",
    "N3 = torch.zeros(S, S, S, dtype=torch.int32)\n",
    "\n",
    "for w in lines:\n",
    "    cs = ['.', '.', *w, '.', '.']\n",
    "    for c1, c2, c3 in zip(cs, cs[1:], cs[2:]):\n",
    "        N3[c2i[c1],c2i[c2],c2i[c3]] += 1\n"
   ]
  },
  {
   "cell_type": "code",
   "execution_count": 18,
   "metadata": {},
   "outputs": [],
   "source": [
    "# normalize N3 into P3\n",
    "# must normalize accross axis 2 \n",
    "P3 = N3 / torch.sum(N3, 2, keepdim=True)"
   ]
  },
  {
   "cell_type": "code",
   "execution_count": 48,
   "metadata": {},
   "outputs": [
    {
     "name": "stdout",
     "output_type": "stream",
     "text": [
      "kelizelia\n",
      "\n",
      "farlia\n",
      "\n",
      "ana\n",
      "\n",
      "shamorethajer\n",
      "\n",
      "averlieremreagdah\n",
      "\n",
      "gie\n",
      "\n",
      "lakaian\n",
      "\n",
      "adendt\n",
      "\n",
      "jet\n",
      "\n",
      "avaakiani\n",
      "\n"
     ]
    }
   ],
   "source": [
    "# now sample names from the distribution\n",
    "\n",
    "for _ in range(10):\n",
    "    out = []\n",
    "    i1, i2 = 0, 0\n",
    "    while True:\n",
    "        i3 = torch.multinomial(P3[i1, i2], num_samples=1, replacement=True).item()\n",
    "        nc = i2c[i3]\n",
    "        i1, i2, = i2, i3\n",
    "        if nc == '.':\n",
    "            break\n",
    "        out.append(nc)\n",
    "    print(''.join(out))"
   ]
  }
 ],
 "metadata": {
  "kernelspec": {
   "display_name": "Python 3",
   "language": "python",
   "name": "python3"
  },
  "language_info": {
   "codemirror_mode": {
    "name": "ipython",
    "version": 3
   },
   "file_extension": ".py",
   "mimetype": "text/x-python",
   "name": "python",
   "nbconvert_exporter": "python",
   "pygments_lexer": "ipython3",
   "version": "3.11.3"
  },
  "orig_nbformat": 4
 },
 "nbformat": 4,
 "nbformat_minor": 2
}
