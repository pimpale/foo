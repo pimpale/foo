{
 "cells": [
  {
   "cell_type": "code",
   "execution_count": 3,
   "metadata": {},
   "outputs": [],
   "source": [
    "import argparse\n",
    "import json\n",
    "import pathlib\n",
    "from enum import Enum\n",
    "\n",
    "import fireworks.client.api\n",
    "import numpy as np\n",
    "from fireworks.client import AsyncFireworks"
   ]
  },
  {
   "cell_type": "code",
   "execution_count": 9,
   "metadata": {},
   "outputs": [],
   "source": [
    "MODELS = [\n",
    "    \"accounts/fireworks/models/llama-v3p1-8b-instruct\",\n",
    "    \"accounts/fireworks/models/llama-v3p1-70b-instruct\",\n",
    "    \"accounts/fireworks/models/llama-v3p1-405b-instruct\",\n",
    "]"
   ]
  },
  {
   "cell_type": "code",
   "execution_count": 6,
   "metadata": {},
   "outputs": [],
   "source": [
    "def get_model_written_tokens_logprobs(\n",
    "    logprobs: fireworks.client.api.LogProbs,\n",
    ") -> tuple[list[str], list[float]]:\n",
    "    # iterate through tokens, find the logprobs that were written by the model\n",
    "    # and return them\n",
    "\n",
    "    written_logprobs = []\n",
    "    written_tokens = []\n",
    "\n",
    "    # state machine to manage where where in the token stream we are\n",
    "    class ModelState(Enum):\n",
    "        MODEL_WRITTEN_TEXT = 1\n",
    "        USER_WRITTEN_TEXT = 2\n",
    "        EXPECT_ASSISTANT_TOKEN = 3\n",
    "\n",
    "    state = ModelState.USER_WRITTEN_TEXT\n",
    "\n",
    "    for token, logprob in zip(logprobs.tokens, logprobs.token_logprobs, strict=False):\n",
    "        match state:\n",
    "            case ModelState.MODEL_WRITTEN_TEXT:\n",
    "                if token == \"<|end_header_id|>\":\n",
    "                    continue\n",
    "                elif token == \"<|eot_id|>\":\n",
    "                    state = ModelState.USER_WRITTEN_TEXT\n",
    "                elif token == \"<|start_header_id|>\":\n",
    "                    state = ModelState.EXPECT_ASSISTANT_TOKEN\n",
    "                else:\n",
    "                    written_logprobs.append(logprob)\n",
    "                    written_tokens.append(token)\n",
    "            case ModelState.USER_WRITTEN_TEXT:\n",
    "                if token == \"<|start_header_id|>\":\n",
    "                    state = ModelState.EXPECT_ASSISTANT_TOKEN\n",
    "            case ModelState.EXPECT_ASSISTANT_TOKEN:\n",
    "                if token == \"assistant\":\n",
    "                    state = ModelState.MODEL_WRITTEN_TEXT\n",
    "                else:\n",
    "                    state = ModelState.USER_WRITTEN_TEXT\n",
    "\n",
    "    return written_tokens, written_logprobs\n",
    "\n",
    "\n",
    "async def compute_nll(fireworks: AsyncFireworks, model: str, data: list[dict[str, str]]) -> float:\n",
    "    # construct chat completion using together api\n",
    "    response = fireworks.chat.completions.create(\n",
    "        model=model,\n",
    "        messages=data,\n",
    "        max_tokens=0,\n",
    "        logprobs=1,\n",
    "        echo=True,\n",
    "    )\n",
    "    tokens, logprobs = get_model_written_tokens_logprobs(response.choices[0].logprobs)\n",
    "\n",
    "    print(tokens)\n",
    "    print(logprobs)\n",
    "\n",
    "    return -np.mean(logprobs)\n",
    "\n",
    "\n"
   ]
  },
  {
   "cell_type": "code",
   "execution_count": 13,
   "metadata": {},
   "outputs": [],
   "source": [
    "fw = AsyncFireworks(api_key=pathlib.Path(\"~/tokens/fireworks\").expanduser().read_text().strip())"
   ]
  },
  {
   "cell_type": "code",
   "execution_count": 15,
   "metadata": {},
   "outputs": [
    {
     "name": "stdout",
     "output_type": "stream",
     "text": [
      "['\\n\\n', 'hello', ',', ' my', ' name', ' is', ' bob', '', '\\n\\n']\n",
      "[0.0, -7.796875, -3.38671875, -13.59375, -0.46459961, -0.00195503, -8.4921875, -1.97265625, 0.0]\n"
     ]
    },
    {
     "data": {
      "text/plain": [
       "3.9676380155555555"
      ]
     },
     "execution_count": 15,
     "metadata": {},
     "output_type": "execute_result"
    }
   ],
   "source": [
    "await compute_nll(fw, MODELS[0], [{\"role\": \"user\", \"content\": \"hello\"}, {\"role\": \"assistant\", \"content\": \"hello, my name is bob\"}])"
   ]
  }
 ],
 "metadata": {
  "kernelspec": {
   "display_name": "gsplat",
   "language": "python",
   "name": "python3"
  },
  "language_info": {
   "codemirror_mode": {
    "name": "ipython",
    "version": 3
   },
   "file_extension": ".py",
   "mimetype": "text/x-python",
   "name": "python",
   "nbconvert_exporter": "python",
   "pygments_lexer": "ipython3",
   "version": "3.10.12"
  }
 },
 "nbformat": 4,
 "nbformat_minor": 2
}
