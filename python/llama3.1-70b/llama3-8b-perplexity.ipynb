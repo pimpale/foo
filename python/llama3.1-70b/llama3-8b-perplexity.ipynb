{
 "cells": [
  {
   "cell_type": "code",
   "execution_count": 3,
   "metadata": {},
   "outputs": [],
   "source": [
    "import transformers\n",
    "from transformers import AutoModelForCausalLM, AutoTokenizer\n",
    "from datasets import load_dataset\n",
    "import torch\n",
    "from tqdm import tqdm\n",
    "import os\n",
    "os.environ[\"CUDA_VISIBLE_DEVICES\"] = \"3\"\n",
    "device = \"cuda\""
   ]
  },
  {
   "cell_type": "code",
   "execution_count": 4,
   "metadata": {},
   "outputs": [
    {
     "data": {
      "application/vnd.jupyter.widget-view+json": {
       "model_id": "71946abd7ff149479bdbe22d6d2aa066",
       "version_major": 2,
       "version_minor": 0
      },
      "text/plain": [
       "tokenizer_config.json:   0%|          | 0.00/50.6k [00:00<?, ?B/s]"
      ]
     },
     "metadata": {},
     "output_type": "display_data"
    },
    {
     "data": {
      "application/vnd.jupyter.widget-view+json": {
       "model_id": "f37284409b5749869f193695e5440ee5",
       "version_major": 2,
       "version_minor": 0
      },
      "text/plain": [
       "tokenizer.json:   0%|          | 0.00/9.09M [00:00<?, ?B/s]"
      ]
     },
     "metadata": {},
     "output_type": "display_data"
    },
    {
     "data": {
      "application/vnd.jupyter.widget-view+json": {
       "model_id": "0b217a0f13b84e92b14b94facf60e03a",
       "version_major": 2,
       "version_minor": 0
      },
      "text/plain": [
       "special_tokens_map.json:   0%|          | 0.00/73.0 [00:00<?, ?B/s]"
      ]
     },
     "metadata": {},
     "output_type": "display_data"
    },
    {
     "data": {
      "application/vnd.jupyter.widget-view+json": {
       "model_id": "815afc4d06a746218f9940492cab2e15",
       "version_major": 2,
       "version_minor": 0
      },
      "text/plain": [
       "config.json:   0%|          | 0.00/654 [00:00<?, ?B/s]"
      ]
     },
     "metadata": {},
     "output_type": "display_data"
    },
    {
     "data": {
      "application/vnd.jupyter.widget-view+json": {
       "model_id": "11df136b741f4052b3fbfd93a4d438ee",
       "version_major": 2,
       "version_minor": 0
      },
      "text/plain": [
       "model.safetensors.index.json:   0%|          | 0.00/23.9k [00:00<?, ?B/s]"
      ]
     },
     "metadata": {},
     "output_type": "display_data"
    },
    {
     "data": {
      "application/vnd.jupyter.widget-view+json": {
       "model_id": "43a01209fd1e404fa130e4213ccb9cfd",
       "version_major": 2,
       "version_minor": 0
      },
      "text/plain": [
       "Downloading shards:   0%|          | 0/4 [00:00<?, ?it/s]"
      ]
     },
     "metadata": {},
     "output_type": "display_data"
    },
    {
     "data": {
      "application/vnd.jupyter.widget-view+json": {
       "model_id": "cf6e1270b3e94b378069fc8d61352e49",
       "version_major": 2,
       "version_minor": 0
      },
      "text/plain": [
       "model-00001-of-00004.safetensors:   0%|          | 0.00/4.98G [00:00<?, ?B/s]"
      ]
     },
     "metadata": {},
     "output_type": "display_data"
    },
    {
     "data": {
      "application/vnd.jupyter.widget-view+json": {
       "model_id": "82c7124976974acd97e2cc44a40e15ea",
       "version_major": 2,
       "version_minor": 0
      },
      "text/plain": [
       "model-00002-of-00004.safetensors:   0%|          | 0.00/5.00G [00:00<?, ?B/s]"
      ]
     },
     "metadata": {},
     "output_type": "display_data"
    },
    {
     "data": {
      "application/vnd.jupyter.widget-view+json": {
       "model_id": "f1041b90f1a9485f85161cebfdcc9e92",
       "version_major": 2,
       "version_minor": 0
      },
      "text/plain": [
       "model-00003-of-00004.safetensors:   0%|          | 0.00/4.92G [00:00<?, ?B/s]"
      ]
     },
     "metadata": {},
     "output_type": "display_data"
    },
    {
     "data": {
      "application/vnd.jupyter.widget-view+json": {
       "model_id": "036029453e9145868b5437a7555afd26",
       "version_major": 2,
       "version_minor": 0
      },
      "text/plain": [
       "model-00004-of-00004.safetensors:   0%|          | 0.00/1.17G [00:00<?, ?B/s]"
      ]
     },
     "metadata": {},
     "output_type": "display_data"
    },
    {
     "data": {
      "application/vnd.jupyter.widget-view+json": {
       "model_id": "c85f7a8278ed4205a02f0e179f73b062",
       "version_major": 2,
       "version_minor": 0
      },
      "text/plain": [
       "Loading checkpoint shards:   0%|          | 0/4 [00:00<?, ?it/s]"
      ]
     },
     "metadata": {},
     "output_type": "display_data"
    },
    {
     "data": {
      "application/vnd.jupyter.widget-view+json": {
       "model_id": "dc805ee1d050413a87a1397970ce1ef0",
       "version_major": 2,
       "version_minor": 0
      },
      "text/plain": [
       "generation_config.json:   0%|          | 0.00/177 [00:00<?, ?B/s]"
      ]
     },
     "metadata": {},
     "output_type": "display_data"
    }
   ],
   "source": [
    "model_id = \"meta-llama/Meta-Llama-3-8B\"\n",
    "\n",
    "# model_id = \"openai-community/gpt2-large\"\n",
    "\n",
    "# model_id = \"meta-llama/Llama-2-7b-hf\"\n",
    "\n",
    "tokenizer = AutoTokenizer.from_pretrained(model_id)\n",
    "model = AutoModelForCausalLM.from_pretrained(\n",
    "  model_id,\n",
    "  device_map='auto',\n",
    "  torch_dtype=torch.bfloat16,\n",
    ")"
   ]
  },
  {
   "cell_type": "code",
   "execution_count": 5,
   "metadata": {},
   "outputs": [],
   "source": [
    "test = load_dataset(\"wikitext\", \"wikitext-2-raw-v1\", split=\"test\")\n",
    "encodings = tokenizer(\"\\n\\n\".join(test[\"text\"]), return_tensors=\"pt\")"
   ]
  },
  {
   "cell_type": "code",
   "execution_count": 6,
   "metadata": {},
   "outputs": [
    {
     "name": "stderr",
     "output_type": "stream",
     "text": [
      "  0%|          | 0/565 [00:00<?, ?it/s]We detected that you are passing `past_key_values` as a tuple and this is deprecated and will be removed in v4.43. Please use an appropriate `Cache` class (https://huggingface.co/docs/transformers/v4.41.3/en/internal/generation_utils#transformers.Cache)\n",
      " 99%|█████████▊| 557/565 [10:38<00:09,  1.15s/it]\n"
     ]
    }
   ],
   "source": [
    "max_length = min(model.config.max_position_embeddings, 4096)\n",
    "\n",
    "stride = 512\n",
    "seq_len = encodings.input_ids.size(1)\n",
    "\n",
    "nlls = []\n",
    "texts = []\n",
    "tokens = []\n",
    "\n",
    "char_norm_nlls = []\n",
    "\n",
    "prev_end_loc = 0\n",
    "for begin_loc in tqdm(range(0, seq_len, stride)):\n",
    "    end_loc = min(begin_loc + max_length, seq_len)\n",
    "    trg_len = end_loc - prev_end_loc  # may be different from stride on last loop\n",
    "    input_ids = encodings.input_ids[:, begin_loc:end_loc].to(device)\n",
    "    target_ids = input_ids.clone()\n",
    "    target_ids[:, :-trg_len] = -100\n",
    "\n",
    "    texts.append(tokenizer.decode(input_ids[0]))\n",
    "    tokens.append(tokenizer.convert_ids_to_tokens(input_ids[0]))\n",
    "\n",
    "    with torch.no_grad():\n",
    "        outputs = model(input_ids, labels=target_ids)\n",
    "\n",
    "        # loss is calculated using CrossEntropyLoss which averages over valid labels\n",
    "        # N.B. the model only calculates loss over trg_len - 1 labels, because it internally shifts the labels\n",
    "        # to the left by 1.\n",
    "        neg_log_likelihood = outputs.loss\n",
    "\n",
    "\n",
    "    nlls.append(neg_log_likelihood)\n",
    "\n",
    "    char_norm_nlls.append((trg_len-1) * neg_log_likelihood / len(texts[-1]))\n",
    "\n",
    "    prev_end_loc = end_loc\n",
    "    if end_loc == seq_len:\n",
    "        break"
   ]
  },
  {
   "cell_type": "code",
   "execution_count": 7,
   "metadata": {},
   "outputs": [
    {
     "data": {
      "text/plain": [
       "tensor(5.3597, device='cuda:0')"
      ]
     },
     "execution_count": 7,
     "metadata": {},
     "output_type": "execute_result"
    }
   ],
   "source": [
    "torch.exp(torch.stack(nlls).mean())"
   ]
  },
  {
   "cell_type": "code",
   "execution_count": 8,
   "metadata": {},
   "outputs": [
    {
     "data": {
      "text/plain": [
       "tensor(1.6789, device='cuda:0')"
      ]
     },
     "execution_count": 8,
     "metadata": {},
     "output_type": "execute_result"
    }
   ],
   "source": [
    "torch.stack(nlls).mean()"
   ]
  },
  {
   "cell_type": "code",
   "execution_count": 9,
   "metadata": {},
   "outputs": [
    {
     "data": {
      "text/plain": [
       "tensor(0.0481, device='cuda:0')"
      ]
     },
     "execution_count": 9,
     "metadata": {},
     "output_type": "execute_result"
    }
   ],
   "source": [
    "torch.stack(char_norm_nlls).mean()"
   ]
  },
  {
   "cell_type": "code",
   "execution_count": 10,
   "metadata": {},
   "outputs": [
    {
     "data": {
      "text/plain": [
       "[<matplotlib.lines.Line2D at 0x7fd2380fbc40>]"
      ]
     },
     "execution_count": 10,
     "metadata": {},
     "output_type": "execute_result"
    },
    {
     "data": {
      "image/png": "[encoded data removed]",
      "text/plain": [
       "<Figure size 640x480 with 1 Axes>"
      ]
     },
     "metadata": {},
     "output_type": "display_data"
    }
   ],
   "source": [
    "import matplotlib.pyplot as plt\n",
    "\n",
    "plt.plot(torch.stack(char_norm_nlls).cpu().numpy()[:200])"
   ]
  },
  {
   "cell_type": "code",
   "execution_count": 11,
   "metadata": {},
   "outputs": [
    {
     "data": {
      "text/plain": [
       "(array([  1.,   2.,   0.,   6.,  10.,  27.,  38.,  56.,  77., 113.,  86.,\n",
       "         61.,  40.,  24.,  13.,   3.,   0.,   0.,   0.,   0.,   0.,   0.,\n",
       "          0.,   0.,   0.,   0.,   0.,   0.,   0.,   0.,   0.,   0.,   0.,\n",
       "          0.,   0.,   0.,   0.,   0.,   0.,   0.,   0.,   0.,   0.,   0.,\n",
       "          0.,   0.,   0.,   0.,   0.,   0.,   0.,   0.,   0.,   0.,   0.,\n",
       "          0.,   0.,   0.,   0.,   0.,   0.,   0.,   0.,   0.,   0.,   0.,\n",
       "          0.,   0.,   0.,   0.,   0.,   0.,   0.,   0.,   0.,   0.,   0.,\n",
       "          0.,   0.,   0.,   0.,   0.,   0.,   0.,   0.,   0.,   0.,   0.,\n",
       "          0.,   0.,   0.,   0.,   0.,   0.,   0.,   0.,   0.,   0.,   0.,\n",
       "          1.]),\n",
       " array([0.01029953, 0.01423029, 0.01816105, 0.02209181, 0.02602257,\n",
       "        0.02995332, 0.03388408, 0.03781484, 0.0417456 , 0.04567636,\n",
       "        0.04960712, 0.05353788, 0.05746863, 0.06139939, 0.06533015,\n",
       "        0.06926091, 0.07319167, 0.07712243, 0.08105318, 0.08498394,\n",
       "        0.0889147 , 0.09284546, 0.09677622, 0.10070698, 0.10463774,\n",
       "        0.10856849, 0.11249925, 0.11643001, 0.12036077, 0.12429153,\n",
       "        0.12822229, 0.13215305, 0.1360838 , 0.14001456, 0.14394532,\n",
       "        0.14787608, 0.15180684, 0.1557376 , 0.15966836, 0.16359911,\n",
       "        0.16752987, 0.17146063, 0.17539139, 0.17932215, 0.18325291,\n",
       "        0.18718367, 0.19111442, 0.19504518, 0.19897594, 0.2029067 ,\n",
       "        0.20683746, 0.21076822, 0.21469898, 0.21862973, 0.22256049,\n",
       "        0.22649125, 0.23042201, 0.23435277, 0.23828353, 0.24221429,\n",
       "        0.24614504, 0.2500758 , 0.25400656, 0.25793732, 0.26186808,\n",
       "        0.26579884, 0.2697296 , 0.27366035, 0.27759111, 0.28152187,\n",
       "        0.28545263, 0.28938339, 0.29331415, 0.29724491, 0.30117566,\n",
       "        0.30510642, 0.30903718, 0.31296794, 0.3168987 , 0.32082946,\n",
       "        0.32476022, 0.32869097, 0.33262173, 0.33655249, 0.34048325,\n",
       "        0.34441401, 0.34834477, 0.35227553, 0.35620628, 0.36013704,\n",
       "        0.3640678 , 0.36799856, 0.37192932, 0.37586008, 0.37979084,\n",
       "        0.38372159, 0.38765235, 0.39158311, 0.39551387, 0.39944463,\n",
       "        0.40337539]),\n",
       " <BarContainer object of 100 artists>)"
      ]
     },
     "execution_count": 11,
     "metadata": {},
     "output_type": "execute_result"
    },
    {
     "data": {
      "image/png": "[encoded data removed]",
      "text/plain": [
       "<Figure size 640x480 with 1 Axes>"
      ]
     },
     "metadata": {},
     "output_type": "display_data"
    }
   ],
   "source": [
    "plt.hist([float(c) for c in char_norm_nlls], bins=100)"
   ]
  },
  {
   "cell_type": "code",
   "execution_count": 13,
   "metadata": {},
   "outputs": [
    {
     "name": "stdout",
     "output_type": "stream",
     "text": [
      "<|begin_of_text|>\n",
      "\n",
      " = Robert Boulter = \n",
      "\n",
      "\n",
      "\n",
      "\n",
      " Robert Boulter is an English film, television and theatre actor. He had a guest @-@ starring role on the television series The Bill in 2000. This was followed by a starring role in the play Herons written by Simon Stephens, which was performed in 2001 at the Royal Court Theatre. He had a guest role in the television series Judge John Deed in 2002. In 2004 Boulter landed a role as \" Craig \" in the episode \" Teddy's Story \" of the television series The Long Firm ; he starred alongside actors Mark Strong and Derek Jacobi. He was cast in the 2005 theatre productions of the Philip Ridley play Mercury Fur, which was performed at the Drum Theatre in Plymouth and the Menier Chocolate Factory in London. He was directed by John Tiffany and starred alongside Ben Whishaw, Shane Zaza, Harry Kent, Fraser Ayres, Sophie Stanton and Dominic Hall. \n",
      "\n",
      "\n",
      " In 2006, Boulter starred alongside Whishaw in the play Citizenship written by Mark Ravenhill. He appeared on a 2006 episode of the television series, Doctors, followed by a role in the 2007 theatre production of How to Curse directed by Josie Rourke. How to Curse was performed at Bush Theatre in the London Borough of Hammersmith and Fulham. Boulter starred in two films in 2008, Daylight Robbery by filmmaker Paris Leonti, and Donkey Punch directed by Olly Blackburn. In May 2008, Boulter made a guest appearance on a two @-@ part episode arc of the television series Waking the Dead, followed by an appearance on the television series Survivors in November 2008. He had a recurring role in ten episodes of the television series Casualty in 2010, as \" Kieron Fletcher \". Boulter starred in the 2011 film Mercenaries directed by Paris Leonti. \n",
      "\n",
      "\n",
      "\n",
      "\n",
      " = = Career = = \n",
      "\n",
      "\n",
      "\n",
      "\n",
      "\n",
      "\n",
      " = = = 2000 – 2005 = = = \n",
      "\n",
      "\n",
      "\n",
      "\n",
      " In 2000 Boulter had a guest @-@ starring role on the television series The Bill ; he portrayed \" Scott Parry \" in the episode, \" In Safe Hands \". Boulter starred as \" Scott \" in the play Herons written by Simon Stephens, which was performed in 2001 at the Royal Court Theatre. A review of Boulter's performance in The Independent on Sunday described him as \" horribly menacing \" in the role, and he received critical reviews in The Herald, and Evening Standard. He appeared in the television series Judge John Deed in 2002 as \" Addem Armitage \" in the episode \" Political Expediency \", and had a role as a different character \" Toby Steele \" on The Bill. \n",
      "\n",
      "\n",
      " He had a recurring role in 2003 on two episodes of The Bill, as character \" Connor Price \". In 2004 Boulter landed a role as \" Craig \" in the episode \" Teddy's Story \" of the television series The Long Firm ; he starred alongside actors Mark Strong and Derek Jacobi. Boulter starred as \" Darren \", in the 2005 theatre productions of the Philip Ridley play Mercury Fur. It was performed at the Drum Theatre in Plymouth, and the Menier Chocolate Factory in London. He was directed by John Tiffany and starred alongside Ben Whishaw, Shane Zaza, Harry Kent, Fraser Ayres, Sophie Stanton and Dominic Hall. Boulter received a favorable review in The Daily Telegraph : \" The acting is shatteringly intense, with wired performances from Ben Whishaw ( now unrecognisable from his performance as Trevor Nunn's Hamlet ), Robert Boulter, Shane Zaza and Fraser Ayres. \" The Guardian noted, \" Ben Whishaw and Robert Boulter offer tenderness amid the savagery. \" \n",
      "\n",
      "\n",
      "\n",
      "\n",
      " = = = 2006 – present = = = \n",
      "\n",
      "\n",
      "\n",
      "\n",
      " In 2006 Boulter starred in the play Citizenship written by Mark Ravenhill. The play was part of a series which featured different playwrights, titled Burn / Chatroom / Citizenship. In a 2006 interview, fellow actor Ben Whishaw identified Boulter as one of his favorite co @-@ stars : \" I loved working with a guy called Robert Boulter, who was in the triple bill of Burn, Chatroom and Citizenship at the National. He played my brother in Mercury Fur. \" He portrayed \" Jason Tyler \" on the 2006 episode of the television series, Doctors, titled \" Something I Ate \". Boulter starred as \" William \" in the 2007 production of How to Curse directed by Josie Rourke. How to Curse was performed at Bush Theatre in the London Borough of Hammersmith and Fulham. In a review of the production for The Daily Telegraph, theatre critic Charles Spencer noted, \" Robert Boulter brings a touching vulnerability to the stage as William. \" \n",
      "\n",
      "\n",
      " Boulter starred in two films in 2008, Daylight Robbery by filmmaker Paris Leonti, and Donkey Punch directed by Olly Blackburn. Boulter portrayed a character named \" Sean \" in Donkey Punch, who tags along with character \" Josh \" as the \" quiet brother... who hits it off with Tammi \". Boulter guest starred on a two @-@ part episode arc \" Wounds \" in May 2008 of the television series Waking the Dead as character \" Jimmy Dearden \". He appeared on the television series Survivors as \" Neil \" in November 2008. He had a recurring role in ten episodes of the television series Casualty in 2010, as \" Kieron Fletcher \". He portrayed an emergency physician applying for a medical fellowship. He commented on the inherent difficulties in portraying a physician on television : \" Playing a doctor is a strange experience. Pretending you know what you're talking about when you don 't is very bizarre but there are advisers on set who are fantastic at taking you through procedures and giving you the confidence to stand there and look like you know what you're doing. \" Boulter starred in the 2011 film Mercenaries directed by Paris Leonti. \n",
      "\n",
      "\n",
      "\n",
      "\n",
      " = = Filmography = = \n",
      "\n",
      "\n",
      "\n",
      "\n",
      "\n",
      "\n",
      " = = = Film = = = \n",
      "\n",
      "\n",
      "\n",
      "\n",
      "\n",
      "\n",
      " = = = Television = = = \n",
      "\n",
      "\n",
      "\n",
      "\n",
      "\n",
      "\n",
      " = = = Theatre = = = \n",
      "\n",
      "\n",
      "\n",
      "\n",
      "\n",
      "\n",
      "\n",
      "\n",
      " = Du Fu = \n",
      "\n",
      "\n",
      "\n",
      "\n",
      " Du Fu ( Wade – Giles : Tu Fu ; Chinese : 杜甫 ; 712 – 770 ) was a prominent Chinese poet of the Tang dynasty. Along with Li Bai ( Li Po ), he is frequently called the greatest of the Chinese poets. His greatest ambition was to serve his country as a successful civil servant, but he proved unable to make the necessary accommodations. His life, like the whole country, was devastated by the An Lushan Rebellion of 755, and his last 15 years were a time of almost constant unrest. \n",
      "\n",
      "\n",
      " Although initially he was little @-@ known to other writers, his works came to be hugely influential in both Chinese and Japanese literary culture. Of his poetic writing, nearly fifteen hundred poems have been preserved over the ages. He has been called the \" Poet @-@ Historian \" and the \" Poet @-@ Sage \" by Chinese critics, while the range of his work has allowed him to be introduced to Western readers as \" the Chinese Virgil, Horace, Ovid, Shakespeare, Milton, Burns, Wordsworth, Béranger, Hugo or Baudelaire \". \n",
      "\n",
      "\n",
      "\n",
      "\n",
      " = = Life = = \n",
      "\n",
      "\n",
      "\n",
      "\n",
      " Traditional Chinese literary criticism emphasized the life of the author when interpreting a work, a practice which Burton Watson attributes to \" the close links that traditional Chinese thought posits between art and morality \". Since many of Du Fu's poems feature morality and history, this practice is particularly important. Another reason, identified by the Chinese historian William Hung, is that Chinese poems are typically concise, omitting context that might be relevant, but which an informed contemporary could be assumed to know. For modern Western readers, \" The less accurately we know the time, the place and the circumstances in the background, the more liable we are to imagine it incorrectly, and the result will be that we either misunderstand the poem or fail to understand it altogether \". Stephen Owen suggests a third factor particular to Du Fu, arguing that the variety of the poet's work required consideration of his whole life, rather than the \" reductive \" categorizations used for more limited poets. \n",
      "\n",
      "\n",
      "\n",
      "\n",
      " = = = Early years = = = \n",
      "\n",
      "\n",
      "\n",
      "\n",
      " Most of what is known of Du Fu's life comes from his poems. His paternal grandfather was Du Shenyan, a noted politician and poet during the reign of Empress Wu. Du Fu was born in 712 ; the exact birthplace is unknown, except that it was near Luoyang, Henan province ( Gong county is a favourite candidate ). In later life, he considered himself to belong to the capital city of Chang 'an, ancestral hometown of the Du family. \n",
      "\n",
      "\n",
      " Du Fu's mother died shortly after he was born, and he was partially raised by his aunt. He had an elder brother, who died young. He also had three half brothers and one half sister, to whom he frequently refers in his poems, although he never mentions his stepmother. \n",
      "\n",
      "\n",
      " The son of a minor scholar @-@ official, his youth was spent on the standard education of a future civil servant : study and memorisation of the Confucian classics of philosophy, history and poetry. He later claimed to have produced creditable poems by his early teens, but these have been lost. \n",
      "\n",
      "\n",
      " In the early 730s, he travelled in the Jiangsu / Zhejiang area ; his earliest surviving poem, describing a poetry contest, is thought to date from the end of this period, around 735. In that year, he took the civil service exam, likely in Chang 'an. He failed, to his surprise and that of centuries of later critics. Hung concludes that he probably failed because his prose style at the time was too dense and obscure, while Chou suggests his failure to cultivate connections in the capital may have been to blame. After this failure, he went back to traveling, this time around Shandong and Hebei. \n",
      "\n",
      "\n",
      " His father died around 740. Du Fu would have been allowed to enter the civil service because of his father's rank, but he is thought to have given up the privilege in favour of one of his half brothers. He spent the next four years living in the Luoyang area, fulfilling his duties in domestic affairs. \n",
      "\n",
      "\n",
      " In the autumn of 744, he met Li Bai ( Li Po ) for the first time, and the two poets formed a friendship. David Young describes this as \" the most significant formative element in Du Fu's artistic development \" because it gave him a living example of the reclusive poet @-@ scholar life to which he was attracted after his failure in the civil service exam. The relationship was somewhat one @-@ sided, however. Du Fu was by some years the younger, while Li Bai was already a poetic star. We have twelve poems to or about Li Bai from the younger poet, but only one in the other direction. They met again only once, in 745. \n",
      "\n",
      "\n",
      " In 746, he moved to the capital in an attempt to resurrect his official career. He took the civil service exam a second time during the following year, but all the candidates were failed by the prime minister ( apparently in order to prevent the emergence of possible rivals ). He never again attempted the examinations, instead petitioning the emperor directly in 751, 754 and probably again in 755. He married around 752, and by 757 the couple had had five children — three sons and two daughters — but one of the sons died in infancy in 755. From 754 he began to have lung problems ( probably asthma ), the first of a series of ailments which dogged him for the rest of his life. It was in that year that Du Fu was forced to move his family due to the turmoil of a famine brought about by massive floods in the region. \n",
      "\n",
      "\n",
      " In 755, he received an appointment as Registrar of the Right Commandant's office of the Crown Prince's Palace. Although this was a minor post, in normal times it would have been at least the start of an official career. Even before he had begun work, however, the position was swept away by events. \n",
      "\n",
      "\n",
      "\n",
      "\n",
      " = = = War = = = \n",
      "\n",
      "\n",
      "\n",
      "\n",
      " The An Lushan Rebellion began in December 755, and was not completely suppressed for almost eight years. It caused enormous disruption to Chinese society : the census of 754 recorded 52 @.@ 9 million people, but ten years later, the census counted just 16 @.@ 9 million, the remainder having been displaced or killed. During this time, Du Fu led a largely itinerant life unsettled by wars, associated famines and imperial displeasure. This period of unhappiness was the making of Du Fu as a poet : Even Shan Chou has written that, \" What he saw around him — the lives of his family, neighbors, and strangers – what he heard, and what he hoped for or feared from the progress of various campaigns — these became the enduring themes of his poetry \". Even when he learned of the death of his youngest child, he turned to the suffering of others in his poetry instead of dwelling upon his own misfortunes. Du Fu wrote : \n",
      "\n",
      "\n",
      " Brooding on what I have lived through, if even I know such suffering, the common man must surely be rattled by the winds. \n",
      "\n",
      "\n",
      " In 756, Emperor Xuanzong was forced to flee the capital and abdicate. Du Fu, who had been away from the city, took his family to a place of safety and attempted to join the court of the new emperor ( Suzong ), but he was captured by the rebels and taken to Chang 'an. In the autumn, his youngest son, Du Zongwu ( Baby Bear ), was born. Around this time Du Fu is thought to have contracted malaria. \n",
      "\n",
      "\n",
      " He escaped from Chang 'an the following year, and was appointed Reminder when he rejoined the court in May 757. This post gave access to the emperor but was largely ceremonial. Du Fu's conscientiousness compelled him to try to make use of it : he caused trouble for himself by protesting the removal of his friend and patron Fang Guan on a petty charge. He was arrested but was pardoned in June. He was granted leave to visit his family in September, but he soon rejoined the court and on December 8, 757, he returned to Chang 'an with the emperor following its recapture by government forces. However, his advice continued to be unappreciated, and in the summer of 758 he was demoted to a post as Commissioner of Education in Huazhou. The position was not to his taste : in one poem, he wrote : \n",
      "\n",
      "\n",
      " I am about to scream madly in the office / Especially when they bring more papers to pile higher on my desk. \n",
      "\n",
      "\n",
      " He moved on in the summer of 759 ; this has traditionally been ascribed to famine, but Hung believes that frustration is a more likely reason. He next spent around six weeks in Qinzhou ( now Tianshui, Gansu province ), where he wrote more than sixty poems. \n",
      "\n",
      "\n",
      "\n",
      "\n",
      " = = = Chengdu = = = \n",
      "\n",
      "\n",
      "\n",
      "\n",
      " In December 759, he briefly stayed in Tonggu ( modern Gansu ). He departed on December 24 for Chengdu ( Sichuan province ), where he was hosted by local Prefect and fellow poet Pei Di. Du subsequently based himself in Sichuan for most of the next five years. By the autumn of that year he was in financial trouble, and sent poems begging help to various acquaintances. He was relieved by Yan Wu, a friend and former colleague who was appointed governor general at Chengdu. Despite his financial problems, this was one of the happiest and most peaceful periods of his life. Many of Du's poems from this period are peaceful depictions of his life at \" thatched hut \". In 762, he left the city to escape a rebellion, but he returned in summer 764 when he was appointed an advisor to Yan, who was involved in campaigns against the Tibetan Empire. \n",
      "\n",
      "\n",
      "\n",
      "\n",
      " = = = Last years = = = \n",
      "\n",
      "\n",
      "\n",
      "\n",
      " Luoyang, the region of his birthplace, was recovered by government forces in the winter of 762, and in the spring of 765 Du Fu and his family sailed down the Yangtze, apparently with the intention of making their way there. They traveled slowly, held up by his ill @-@ health ( by this time he was suffering from poor eyesight, deafness and general old age in addition to his previous ailments ). They stayed in Kuizhou ( in what is now Baidicheng, Chongqing ) at the entrance to the Three Gorges for almost two years from late spring 766. This period was Du Fu's last great poetic flowering, and here he wrote 400 poems in his dense, late style. In autumn 766, Bo Maolin became governor of the region : he supported Du Fu financially and employed him as his unofficial secretary. \n",
      "\n",
      "\n",
      " In March 768, he began his journey again and got as far as Hunan province, where he died in Tanzhou ( now Changsha ) in November or December 770, in his 58th year. He was survived by his wife and two sons, who remained in the area for some years at least. His last known descendant is a grandson who requested a grave inscription for the poet from Yuan Zhen in 813. \n",
      "\n",
      "\n",
      " Hung summarises his life by concluding that, \" He appeared to be a filial son, an affectionate father, a generous brother, a faithful husband, a loyal friend, a dutiful official, and a patriotic subject. \" \n",
      "\n",
      "\n",
      " Below is an example of one of Du Fu's later works, To My Retired Friend Wei ( Chinese : 贈衛八處士 ). Like many other poems in the Tang it featured the theme of a long parting between friends, which was often due to officials being frequently transferred to the provinces : \n",
      "\n",
      "\n",
      "\n",
      "\n",
      " = = Works = = \n",
      "\n",
      "\n",
      "\n",
      "\n",
      " Criticism of Du Fu's works has focused on his strong sense of history, his moral engagement, and his technical excellence. \n",
      "\n",
      "\n",
      "\n",
      "\n",
      " = = = History = = = \n",
      "\n",
      "\n",
      "\n",
      "\n",
      " Since the Song dynasty, critics have called Du Fu the \" poet historian \" ( 詩史 shī shǐ ). The most directly historical of his poems are those commenting on military tactics or the successes and failures of the government, or the poems of advice which he wrote to the emperor. Indirectly, he wrote about the effect of the times in which he lived on himself, and on the ordinary people of China. As Watson notes, this is information \" of a kind seldom found in the officially compiled histories of the era \". \n",
      "\n",
      "\n",
      " Du Fu's political comments are based on emotion rather than calculation : his prescriptions have been paraphrased as, \" Let us all be less selfish, let us all do what we are supposed to do \". Since his views were impossible to disagree with, his forcefully expressed truisms enabled his installation as the central figure of Chinese poetic history. \n",
      "\n",
      "\n",
      "\n",
      "\n",
      " = = = Moral engagement = = = \n",
      "\n",
      "\n",
      "\n",
      "\n",
      " A second favourite epithet of Chinese critics is that of \" poet sage \" ( 詩聖 shī shèng ), a counterpart to the philosophical sage, Confucius. One of the earliest surviving works, The Song of the Wagons ( from around 750 ), gives voice to the sufferings of a conscript soldier in the imperial army and a clear @-@ sighted consciousness\n"
     ]
    }
   ],
   "source": [
    "print(texts[0])"
   ]
  },
  {
   "cell_type": "code",
   "execution_count": 15,
   "metadata": {},
   "outputs": [
    {
     "name": "stdout",
     "output_type": "stream",
     "text": [
      " the \" major league \" of professional hustling and high @-@ stakes wagering by high @-@ rollers that follows it. He throws his raw talent and ambition up against the best player in the country ; seeking to best the legendary pool player \" Minnesota Fats. \" After initially losing to Fats and getting involved with unscrupulous manager Bert Gordon, Eddie returns to try again, but only after paying a terrible personal price. \n",
      "\n",
      "\n",
      " The film was shot on location in New York City. It stars Paul Newman as \" Fast \" Eddie Felson, Jackie Gleason as Minnesota Fats, Piper Laurie as Sarah, and George C. Scott as Bert. \n",
      "\n",
      "\n",
      " The Hustler was a major critical and popular success, gaining a reputation as a modern classic. Its exploration of winning, losing, and character garnered a number of major awards ; it is also credited with helping to spark a resurgence in the popularity of pool. Real @-@ life pool player Rudolf Wanderone, known at the time as \" New York Fats \" and \" Chicago Fats \", claimed to be the real life inspiration for Gleason's character, Minnesota Fats, and adopted the name as his own. \n",
      "\n",
      "\n",
      "\n",
      "\n",
      " = = Plot = = \n",
      "\n",
      "\n",
      "\n",
      "\n",
      " Small @-@ time pool hustler \" Fast Eddie \" Felson travels cross @-@ country with his partner Charlie to challenge the legendary player \" Minnesota Fats \". Arriving at Fats'home pool hall, Eddie declares he will win $ 10 @,@ 000 that night. Fats arrives and he and Eddie agree to play straight pool for $ 200 a game. After initially falling behind, Eddie surges back to being $ 1 @,@ 000 ahead and suggests raising the bet to $ 1 @,@ 000 a game ; Fats agrees. He sends out a runner, Preacher, to Johnny's Bar, ostensibly for whiskey, but really to get professional gambler Bert Gordon to the hall. Eddie gets ahead $ 11 @,@ 000 and Charlie tries to convince him to quit, but Eddie insists the game will end only when Fats says it is over. Fats agrees to continue after Bert labels Eddie a \" loser. \" After 25 hours and an entire bottle of bourbon, Eddie is ahead over $ 18 @,@ 000, but loses it all along with all but $ 200 of his original stake. At their hotel later, Eddie leaves half of the remaining stake with a sleeping Charlie and leaves. \n",
      "\n",
      "\n",
      " Eddie stashes his belongings at the local bus terminal, where he meets Sarah Packard, an alcoholic who is supported by her father, attends college part @-@ time, and walks with a limp. He meets her again at a bar. They go back to her place but she refuses to let him in, saying he is \" too hungry \". Eddie moves into a rooming house and starts hustling for small stakes. He finds Sarah again and this time she takes him in, but with reservations. Charlie finds Eddie at Sarah's and tries to persuade him to go back out on the road. Eddie refuses and Charlie realizes he plans to challenge Fats again. Eddie realizes that Charlie held out his percentage and becomes enraged, believing that with that money he could have rebounded to beat Fats. Eddie dismisses Charlie as a scared old man and tells him to \" go lie down and die \" by himself. \n",
      "\n",
      "\n",
      " At Johnny's Bar, Eddie joins a poker game where Bert is playing, and loses $ 20. Afterward, Bert tells Eddie that he has talent as a pool player but no character. He figures that Eddie will need at least $ 3 @,@ 000 to challenge Fats again. Bert calls him a \" born loser \" but nevertheless offers to stake him in return for 75 % of his winnings ; Eddie refuses. \n",
      "\n",
      "\n",
      " Eddie humiliates a local pool shark, exposing himself as a hustler, and the other players punish him by breaking his thumbs. As he heals, Sarah cares for him and tells him she loves him, but he cannot say the words in return. When Eddie is ready to play, he agrees to Bert's terms, deciding that a \" 25 % slice of something big is better than a 100 % slice of nothing \". \n",
      "\n",
      "\n",
      " Bert, Eddie, and Sarah travel to the Kentucky Derby, where Bert arranges a match for Eddie against a wealthy local socialite named Findley. The game turns out to be carom billiards, not pool. When Eddie loses badly, Bert refuses to keep staking him. Sarah pleads with Eddie to leave with her, saying that the world he is living in and its inhabitants are \" perverted, twisted, and crippled \" ; he refuses. Seeing Eddie's anger, Bert agrees to let the match continue at $ 1 @,@ 000 a game. Eddie comes back to win $ 12 @,@ 000. He collects his $ 3 @,@ 000 share and decides to walk back to the hotel. Bert arrives first and subjects Sarah to a humiliating sexual encounter. After, she scrawls \" PERVERTED \", \" TWISTED \", and \" CRIPPLED \" in lipstick on the bathroom mirror. Eddie arrives back at the hotel to learn that she has killed herself. \n",
      "\n",
      "\n",
      " Eddie returns to challenge Fats again, putting up his entire $ 3 @,@ 000 stake on a single game. He wins game after game, beating Fats so badly that Fats is forced to quit. Bert demands a share of Eddie's winnings and threatens that Eddie will be injured unless he pays. But Eddie says that if he is not killed he will kill Bert when he recovers ; invoking the memory of Sarah, he shames Bert into giving up his claim. Instead, Bert orders Eddie never to walk into a big @-@ time pool hall again. Eddie and Fats compliment each other as players, and Eddie walks out. \n",
      "\n",
      "\n",
      "\n",
      "\n",
      " = = Cast = = \n",
      "\n",
      "\n",
      "\n",
      "\n",
      " Cast notes \n",
      "\n",
      "\n",
      " Pool champion Willie Mosconi has a cameo appearance as Willie, who holds the stakes for Eddie and Fats's games. Mosconi's hands also appear in many of the closeup shots. \n",
      "\n",
      "\n",
      "\n",
      "\n",
      " = = Production = = \n",
      "\n",
      "\n",
      "\n",
      "\n",
      " The Tevis novel had been optioned several times, including by Frank Sinatra, but attempts to adapt it for the screen were unsuccessful. Director Rossen's daughter Carol Rossen speculates that previous adaptations focused too much on the pool aspects of the story and not enough on the human interaction. Rossen, who had hustled pool himself as a youth and who had made an abortive attempt to write a pool @-@ themed play called Corner Pocket, optioned the book and teamed with Sidney Carroll to produce the script. \n",
      "\n",
      "\n",
      " According to Bobby Darin's agent, Martin Baum, Paul Newman's agent turned down the part of Fast Eddie. Newman was originally unavailable to play Fast Eddie regardless, being committed to star opposite Elizabeth Taylor in the film Two for the Seesaw. Rossen offered Darin the part after seeing him on The Mike Wallace Interview. When Taylor was forced to drop out of Seesaw because of shooting overruns on Cleopatra, Newman was freed up to take the role, which he accepted after reading just half of the script. No one associated with the production officially notified Darin or his representatives that he had been replaced ; they found out from a member of the public at a charity horse race. \n",
      "\n",
      "\n",
      " Rossen filmed The Hustler over six weeks, entirely in New York City. Much of the action was filmed at two now @-@ defunct pool halls, McGirr's and Ames Billiard Academy. Other shooting locations included a townhouse on East 82nd Street, which served as the Louisville home of Murray Hamilton's character Findley, and the Manhattan Greyhound bus terminal. The film crew built a dining area that was so realistic that confused passengers sat there and waited to place their orders. Willie Mosconi served as technical advisor on the film and shot a number of the trick shots in place of the actors. All of Gleason's shots were his own ; they were filmed in wide @-@ angle to emphasize having the actor and the shot in the same frames. Rossen, in pursuit of the style he termed \" neo @-@ neo @-@ realistic \", hired actual street thugs, enrolled them in the Screen Actors Guild and used them as extras. Scenes that were included in the shooting script but did not make it into the final film include a scene at Ames pool hall establishing that Eddie is on his way to town ( originally slated to be the first scene of the film ) and a longer scene of Preacher talking to Bert at Johnny's Bar which establishes Preacher is a junkie. \n",
      "\n",
      "\n",
      " Early shooting put more focus on the pool playing, but during filming Rossen made the decision to place more emphasis on the love story between Newman and Laurie's characters. Despite the change in emphasis, Rossen still used the various pool games to show the strengthening of Eddie's character and the evolution of his relationship to Bert and Sarah, through the positioning of the characters in the frame. For example, when Eddie is playing Findley, Eddie is positioned below Bert in a two shot but above Findley while still below Bert in a three shot. When Sarah enters the room, she is below Eddie in two shot while in a three shot Eddie is still below Bert. When Eddie is kneeling over Sarah's body, Bert again appears above him but Eddie attacks Bert, ending up on top of him. Eddie finally appears above Bert in two shot when Eddie returns to beat Fats. \n",
      "\n",
      "\n",
      "\n",
      "\n",
      " = = Themes = = \n",
      "\n",
      "\n",
      "\n",
      "\n",
      " The Hustler is fundamentally a story of what it means to be a human being, couched within the context of winning and losing. Describing the film, Robert Rossen said : \" My protagonist, Fast Eddie, wants to become a great pool player, but the film is really about the obstacles he encounters in attempting to fulfill himself as a human being. He attains self @-@ awareness only after a terrible personal tragedy which he has caused — and then he wins his pool game. \" Roger Ebert concurs with this assessment, citing The Hustler as \" one of the few American movies in which the hero wins by surrendering, by accepting reality instead of his dreams. \" \n",
      "\n",
      "\n",
      " The film was also somewhat autobiographical for Rossen, relating to his dealings with the House Un @-@ American Activities Committee. A screenwriter during the 1930s and'40s, he had been involved with the Communist Party in the 1930s and refused to name names at his first HUAC appearance. Ultimately he changed his mind and identified friends and colleagues as party members. Similarly, Felson sells his soul and betrays the one person who really knows and loves him in a Faustian pact to gain character. \n",
      "\n",
      "\n",
      " Film and theatre historian Ethan Mordden has identified The Hustler as one of a handful of films from the early 1960s that re @-@ defined the relationship of films to their audiences. This new relationship, he writes, is \" one of challenge rather than flattery, of doubt rather than certainty. \" No film of the 1950s, Mordden asserts, \" took such a brutal, clear look at the ego @-@ affirmation of the one @-@ on @-@ one contest, at the inhumanity of the winner or the castrated vulnerability of the loser. \" Although some have suggested the resemblance of this film to classic film noir, Mordden rejects the comparison based on Rossen's ultra @-@ realistic style, also noting that the film lacks noir's \" Treacherous Woman or its relish in discovering crime among the bourgeoisie, hungry bank clerks and lusty wives. \" Mordden does note that while Fast Eddie \" has a slight fifties ring \", the character \" makes a decisive break with the extraordinarily feeling tough guys of the'rebel'era... [ b ] ut he does end up seeking out his emotions \" and telling Bert that he is a loser because he's dead inside. \n",
      "\n",
      "\n",
      "\n",
      "\n",
      " = = Reception = = \n",
      "\n",
      "\n",
      "\n",
      "\n",
      " The Hustler had its world premiere in Washington, D.C. on September 25, 1961. Prior to the premiere, Richard Burton hosted a midnight screening of the film for the casts of the season's Broadway shows, which generated a great deal of positive word of mouth. Initially reluctant to publicize the film, 20th Century Fox responded by stepping up its promotional activities. \n",
      "\n",
      "\n",
      " The film was well received by critics, although with the occasional caveat. Variety praised the performances of the entire main cast but felt that the \" sordid aspects \" of the story prevented the film from achieving the \" goal of being pure entertainment. \" Variety also felt the film was far too long. Stanley Kauffmann, writing for The New Republic, concurred in part with this assessment. Kauffmann strongly praised the principal cast, calling Newman \" first @-@ rate \" and writing that Scott's was \" his most credible performance to date. \" Laurie, he writes, gives her part \" movingly anguished touches \" ( although he also mildly criticizes her for over @-@ reliance on Method acting ). While he found that the script \" strains hard to give an air of menace and criminality to the pool hall \" and also declares it \" full of pseudo @-@ meaning \", Kauffmann lauds Rossen's \" sure, economical \" direction, especially in regard to Gleason who, he says, does not so much act as \" [ pose ] for a number of pictures which are well arranged by Rossen. It is the best use of a manikin by a director since Kazan photographed Burl Ives as Big Daddy. \" The New York Times, despite finding that the film \" strays a bit \" and that the romance between Newman and Laurie's characters \" seems a mite far @-@ fetched \", nonetheless found that The Hustler \" speaks powerfully in a universal language that spellbinds and reveals bitter truths. \" \n",
      "\n",
      "\n",
      " The Hustler received nine Academy Award nominations. The film won two, for Best Art Direction @-@ Set Decoration, Black @-@ and @-@ White ( Harry Horner and Gene Callahan ) and Best Cinematography, Black @-@ and @-@ White ( Eugen Schüfftan ). The film was also nominated for Best Picture and Newman was nominated for Best Actor in a Leading Role. Gleason and Scott were both nominated for Best Actor in a Supporting Role ; Scott refused the nomination. Laurie was nominated for Best Actress in a Leading Role. Rossen received nominations for Best Director and, with Carroll, for Best Writing, Screenplay Based on Material from Another Medium. \n",
      "\n",
      "\n",
      " Newman was nominated for a Golden Globe Award for Best Actor. Gleason and Scott were each nominated for Best Supporting Actor and Scott was also nominated as Best New Star of the Year. At the 1962 BAFTA Awards, The Hustler tied with the Soviet film Ballad of a Soldier for Best Film from Any Source. Newman won for Best Foreign Actor and Piper Laurie was nominated for Best Foreign Actress. Gleason was honored as Best Supporting Actor by the National Board of Review of Motion Pictures and the film was named among the Board's ten best films of 1961. Rossen was named Best Director by the New York Film Critics Circle Awards and Rossen and Carroll shared the Writers Guild of America Award for Best Written Drama. \n",
      "\n",
      "\n",
      " American Film Institute Lists \n",
      "\n",
      "\n",
      " AFI's 100 Years... 100 Movies - Nominated \n",
      "\n",
      "\n",
      " AFI's 100 Years... 100 Thrills - Nominated \n",
      "\n",
      "\n",
      " AFI's 100 Years... 100 Heroes and Villains : \n",
      "\n",
      "\n",
      " Bert Gordon - Nominated Villain \n",
      "\n",
      "\n",
      " AFI's 100 Years... 100 Movie Quotes : \n",
      "\n",
      "\n",
      " \" Eddie, you're a born loser. \" - Nominated \n",
      "\n",
      "\n",
      " AFI's 100 Years... 100 Movies ( 10th Anniversary Edition ) - Nominated \n",
      "\n",
      "\n",
      " AFI's 10 Top 10 - # 6 Sports Film \n",
      "\n",
      "\n",
      "\n",
      "\n",
      " = = Legacy = = \n",
      "\n",
      "\n",
      "\n",
      "\n",
      " In the decades since its release, The Hustler has cemented its reputation as a classic. Roger Ebert, echoing earlier praise for the performances, direction, and cinematography and adding laurels for editor Dede Allen, cites the film as \" one of those films where scenes have such psychic weight that they grow in our memories. \" He further cites Fast Eddie Felson as one of \" only a handful of movie characters so real that the audience refers to them as touchstones. \" TV Guide calls the film a \" dark stunner \" offering \" a grim world whose only bright spot is the top of the pool table, yet [ with ] characters [ who ] maintain a shabby nobility and grace. \" The four leads are again lavishly praised for their performances and the film is summed up as \" not to be missed. \" \n",
      "\n",
      "\n",
      " Paul Newman reprised his role as Fast Eddie Felson in the 1986 film The Color of Money, for which he won the Academy Award for Best Actor in a Leading Role. A number of observers and critics have suggested that this Oscar was in belated recognition for his performance in The Hustler. In 1997, the Library of Congress selected The Hustler for preservation in the United States National Film Registry as \" culturally, historically, or aesthetically significant. \" Carroll and Rossen's screenplay was selected by the Writers Guild of America in 2006 as the 96th best motion picture screenplay of all time. In June 2008, AFI released its \" Ten top Ten \" — the best ten films in ten \" classic \" American film genres — after polling over 1 @,@ 500 people from the creative community. The Hustler was acknowledged as the sixth best film in the sports genre. \n",
      "\n",
      "\n",
      " The Hustler is credited with sparking a resurgence in the popularity of pool in the United States, which had been on the decline for decades. The film also brought recognition to Willie Mosconi, who, despite having won multiple world championships, was virtually unknown to the general public. Perhaps the greatest beneficiary of the film's popularity was a real @-@ life pool hustler named Rudolf Wanderone. Mosconi claimed in an interview at the time of the film's release that the character of Minnesota Fats was based on Wanderone, who at the time was known as \" New York Fatty \". Wanderone immediately adopted the Minnesota Fats nickname and parlayed his association with the film into book and television deals and other ventures. Author Walter Tevis denied for the rest of his life that Wanderone had played any role in the creation of the character. Other players would claim, with greater or lesser degrees of credibility, to have served as models for Fast Eddie, including Ronnie Allen, Ed Taylor, Ed Parker, and Eddie Pelkey. \n",
      "\n",
      "\n",
      "\n"
     ]
    }
   ],
   "source": [
    "print(texts[-1])"
   ]
  }
 ],
 "metadata": {
  "kernelspec": {
   "display_name": "gsplat",
   "language": "python",
   "name": "python3"
  },
  "language_info": {
   "codemirror_mode": {
    "name": "ipython",
    "version": 3
   },
   "file_extension": ".py",
   "mimetype": "text/x-python",
   "name": "python",
   "nbconvert_exporter": "python",
   "pygments_lexer": "ipython3",
   "version": "3.10.12"
  }
 },
 "nbformat": 4,
 "nbformat_minor": 2
}
