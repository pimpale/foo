{
 "cells": [
  {
   "cell_type": "code",
   "execution_count": 1,
   "metadata": {},
   "outputs": [],
   "source": [
    "import swe_bench_constants\n",
    "from datasets import load_dataset\n",
    "dataset = load_dataset('princeton-nlp/SWE-bench_Lite', split='test')\n",
    "def get_spec(sbi: swe_bench_constants.SWEbenchInstance) -> swe_bench_constants.SpecInstance:\n",
    "    return swe_bench_constants.MAP_REPO_VERSION_TO_SPECS[sbi['repo']][sbi['version']]"
   ]
  },
  {
   "cell_type": "code",
   "execution_count": 8,
   "metadata": {},
   "outputs": [],
   "source": []
  },
  {
   "cell_type": "code",
   "execution_count": 11,
   "metadata": {},
   "outputs": [
    {
     "data": {
      "text/plain": [
       "{'python': '3.6',\n",
       " 'packages': 'requirements.txt',\n",
       " 'install': 'python -m pip install -e .',\n",
       " 'eval_commands': [\"sed -i '/en_US.UTF-8/s/^# //g' /etc/locale.gen && locale-gen\",\n",
       "  'export LANG=en_US.UTF-8',\n",
       "  'export LANGUAGE=en_US:en',\n",
       "  'export LC_ALL=en_US.UTF-8'],\n",
       " 'test_cmd': './tests/runtests.py --verbosity 2 --settings=test_sqlite --parallel 1'}"
      ]
     },
     "execution_count": 11,
     "metadata": {},
     "output_type": "execute_result"
    }
   ],
   "source": [
    "def get_data(i: int) -> tuple[swe_bench_constants.SWEbenchInstance, swe_bench_constants.SpecInstance]:\n",
    "    return dataset[i], get_spec(dataset[i])"
   ]
  }
 ],
 "metadata": {
  "kernelspec": {
   "display_name": "inspectai",
   "language": "python",
   "name": "python3"
  },
  "language_info": {
   "codemirror_mode": {
    "name": "ipython",
    "version": 3
   },
   "file_extension": ".py",
   "mimetype": "text/x-python",
   "name": "python",
   "nbconvert_exporter": "python",
   "pygments_lexer": "ipython3",
   "version": "3.12.4"
  }
 },
 "nbformat": 4,
 "nbformat_minor": 2
}
