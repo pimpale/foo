{
 "cells": [
  {
   "cell_type": "code",
   "execution_count": 1,
   "metadata": {},
   "outputs": [],
   "source": [
    "import pathlib\n",
    "import os"
   ]
  },
  {
   "cell_type": "code",
   "execution_count": 2,
   "metadata": {},
   "outputs": [],
   "source": [
    "DATA_DIR = \"/scratch/govind/modality_translation/images_thermal_train/data\""
   ]
  },
  {
   "cell_type": "code",
   "execution_count": 5,
   "metadata": {},
   "outputs": [],
   "source": [
    "def process_caption(caption):\n",
    "    caption = caption.replace('black and white ', '')\n",
    "    caption = caption.replace(', captured in black and white', '')\n",
    "    caption = caption.replace('snowy ', '')\n",
    "    caption = caption.replace(' in the snow', '')\n",
    "    caption = caption.replace('at night ', '')\n",
    "    caption = caption.replace(' at night', '')\n",
    "    caption = caption.replace('nighttime ', '')\n",
    "    caption = caption.replace('\"', '')\n",
    "    return caption"
   ]
  },
  {
   "cell_type": "code",
   "execution_count": 7,
   "metadata": {},
   "outputs": [],
   "source": [
    "data_dir_path = pathlib.Path(DATA_DIR)\n",
    "\n",
    "for p in data_dir_path.iterdir():\n",
    "    if p.suffix == \".txt\":\n",
    "        # run process_caption on the contents of the file\n",
    "        p.write_text(process_caption(p.read_text()))"
   ]
  }
 ],
 "metadata": {
  "kernelspec": {
   "display_name": "modality_translation",
   "language": "python",
   "name": "python3"
  },
  "language_info": {
   "codemirror_mode": {
    "name": "ipython",
    "version": 3
   },
   "file_extension": ".py",
   "mimetype": "text/x-python",
   "name": "python",
   "nbconvert_exporter": "python",
   "pygments_lexer": "ipython3",
   "version": "3.10.0"
  }
 },
 "nbformat": 4,
 "nbformat_minor": 2
}
