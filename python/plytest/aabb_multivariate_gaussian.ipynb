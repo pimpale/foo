{
 "cells": [
  {
   "cell_type": "code",
   "execution_count": 11,
   "metadata": {},
   "outputs": [
    {
     "data": {
      "application/vnd.jupyter.widget-view+json": {
       "model_id": "475a671ff74c45278671074b2ae50e80",
       "version_major": 2,
       "version_minor": 0
      },
      "text/plain": [
       "interactive(children=(FloatSlider(value=1.0, description='sx', max=10.0, min=0.1), FloatSlider(value=1.0, desc…"
      ]
     },
     "metadata": {},
     "output_type": "display_data"
    }
   ],
   "source": [
    "import numpy as np\n",
    "from scipy.stats import multivariate_normal, norm\n",
    "import matplotlib.pyplot as plt\n",
    "from ipywidgets import interact\n",
    "import ipywidgets as widgets\n",
    "\n",
    "@interact(\n",
    "        sx=widgets.FloatSlider(min=0.1, max=10, value=1),\n",
    "        sy=widgets.FloatSlider(min=0.1, max=10, value=1),\n",
    "        r=0.0\n",
    ")\n",
    "def g(sx, sy, r):\n",
    "    x = np.linspace(-10,10,100)\n",
    "    y = np.linspace(-10,10,100)\n",
    "    X, Y = np.meshgrid(x,y)\n",
    "\n",
    "    S = np.array([[sx, 0], [0, sy]])\n",
    "    R = np.array([[np.cos(r), -np.sin(r)], [np.sin(r), np.cos(r)]])\n",
    "    Sigma = R @ S @ S.T @ R.T\n",
    "\n",
    "    Z = multivariate_normal.pdf(np.dstack((X, Y)), mean=[0, 0], cov=Sigma)\n",
    "    plt.contourf(X, Y, Z)\n",
    "    plt.show()"
   ]
  },
  {
   "cell_type": "code",
   "execution_count": 18,
   "metadata": {},
   "outputs": [
    {
     "data": {
      "application/vnd.jupyter.widget-view+json": {
       "model_id": "e601a55f8bd34b34b8c307ccfe273aa5",
       "version_major": 2,
       "version_minor": 0
      },
      "text/plain": [
       "interactive(children=(FloatSlider(value=1.0, description='sx', max=10.0, min=0.1), FloatSlider(value=1.0, desc…"
      ]
     },
     "metadata": {},
     "output_type": "display_data"
    }
   ],
   "source": [
    "@interact(\n",
    "        sx=widgets.FloatSlider(min=0.1, max=10, value=1),\n",
    "        sy=widgets.FloatSlider(min=0.1, max=10, value=1),\n",
    "        r=widgets.FloatSlider(min=0, max=2*np.pi, value=0),\n",
    "        cutoff=widgets.FloatSlider(min=0.0, max=1, value=0.1)\n",
    ")\n",
    "def g(sx, sy, r, cutoff):\n",
    "    x = np.linspace(-10,10,100)\n",
    "    y = np.linspace(-10,10,100)\n",
    "    X, Y = np.meshgrid(x,y)\n",
    "\n",
    "    S = np.array([[sx, 0], [0, sy]])\n",
    "    R = np.array([[np.cos(r), -np.sin(r)], [np.sin(r), np.cos(r)]])\n",
    "    Sigma = R @ S @ S.T @ R.T\n",
    "\n",
    "    for dim in range(2):\n",
    "        scale = np.sqrt(Sigma[dim, dim])\n",
    "        line = norm.ppf(cutoff, loc=0, scale=scale)\n",
    "        if dim == 0:\n",
    "            plt.vlines([line], -10, 10, colors='r')\n",
    "        elif dim == 1:\n",
    "            plt.hlines([line], -10, 10, colors='r')\n",
    "\n",
    "\n",
    "    Z = multivariate_normal.pdf(np.dstack((X, Y)), mean=[0, 0], cov=Sigma)\n",
    "    plt.contourf(X, Y, Z)\n",
    "    plt.show()"
   ]
  },
  {
   "cell_type": "code",
   "execution_count": null,
   "metadata": {},
   "outputs": [],
   "source": []
  }
 ],
 "metadata": {
  "kernelspec": {
   "display_name": "gsplat",
   "language": "python",
   "name": "python3"
  },
  "language_info": {
   "codemirror_mode": {
    "name": "ipython",
    "version": 3
   },
   "file_extension": ".py",
   "mimetype": "text/x-python",
   "name": "python",
   "nbconvert_exporter": "python",
   "pygments_lexer": "ipython3",
   "version": "3.10.12"
  }
 },
 "nbformat": 4,
 "nbformat_minor": 2
}
