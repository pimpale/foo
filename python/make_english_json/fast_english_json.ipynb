{
 "cells": [
  {
   "cell_type": "code",
   "execution_count": null,
   "metadata": {},
   "outputs": [],
   "source": [
    "def pluralize_regular_noun(singular: str) -> str:\n",
    "    if singular.endswith('s') or singular.endswith('sh') or singular.endswith('ch') or singular.endswith('x'):\n",
    "        return singular + 'es'\n",
    "    elif singular.endswith('y'):\n",
    "        # if the letter before 'y' is a vowel, add 's'\n",
    "        if singular[-2] in 'aeiou':\n",
    "            return singular + 's'\n",
    "        else:\n",
    "            return singular[:-1] + 'ies'\n",
    "    else:\n",
    "        return singular + 's'"
   ]
  }
 ],
 "metadata": {
  "language_info": {
   "name": "python"
  }
 },
 "nbformat": 4,
 "nbformat_minor": 2
}
