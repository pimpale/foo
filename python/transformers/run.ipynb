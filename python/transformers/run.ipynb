{
 "cells": [
  {
   "cell_type": "code",
   "execution_count": 1,
   "metadata": {},
   "outputs": [
    {
     "data": {
      "text/plain": [
       "GPT2LMHeadModel(\n",
       "  (transformer): GPT2Model(\n",
       "    (wte): Embedding(50257, 1024)\n",
       "    (wpe): Embedding(1024, 1024)\n",
       "    (drop): Dropout(p=0.1, inplace=False)\n",
       "    (h): ModuleList(\n",
       "      (0-23): 24 x GPT2Block(\n",
       "        (ln_1): LayerNorm((1024,), eps=1e-05, elementwise_affine=True)\n",
       "        (attn): GPT2Attention(\n",
       "          (c_attn): Conv1D()\n",
       "          (c_proj): Conv1D()\n",
       "          (attn_dropout): Dropout(p=0.1, inplace=False)\n",
       "          (resid_dropout): Dropout(p=0.1, inplace=False)\n",
       "        )\n",
       "        (ln_2): LayerNorm((1024,), eps=1e-05, elementwise_affine=True)\n",
       "        (mlp): GPT2MLP(\n",
       "          (c_fc): Conv1D()\n",
       "          (c_proj): Conv1D()\n",
       "          (act): NewGELUActivation()\n",
       "          (dropout): Dropout(p=0.1, inplace=False)\n",
       "        )\n",
       "      )\n",
       "    )\n",
       "    (ln_f): LayerNorm((1024,), eps=1e-05, elementwise_affine=True)\n",
       "  )\n",
       "  (lm_head): Linear(in_features=1024, out_features=50257, bias=False)\n",
       ")"
      ]
     },
     "execution_count": 1,
     "metadata": {},
     "output_type": "execute_result"
    }
   ],
   "source": [
    "import torch\n",
    "from transformers import GPT2Tokenizer, GPT2LMHeadModel\n",
    "\n",
    "# Load the tokenizer and model\n",
    "tokenizer = GPT2Tokenizer.from_pretrained('./finetuned_model/')\n",
    "model = GPT2LMHeadModel.from_pretrained('./finetuned_model/')\n",
    "\n",
    "# Set the model to evaluation mode and run it on cuda (if exists)\n",
    "\n",
    "device = torch.device(\"cuda\") if torch.has_cuda else torch.device(\"cpu\")\n",
    "\n",
    "model.to(device)\n",
    "model.eval()"
   ]
  },
  {
   "cell_type": "code",
   "execution_count": 27,
   "metadata": {},
   "outputs": [],
   "source": [
    "def gentext(prompt:str, max_tokens:int):\n",
    "    encoded_input = tokenizer(prompt, return_tensors='pt').to(device)\n",
    "    output = model.generate(\n",
    "        **encoded_input,\n",
    "        temperature=1.0,\n",
    "        repetition_penalty=1.01,\n",
    "        max_new_tokens=max_tokens\n",
    "    )\n",
    "    outtext = tokenizer.decode(output[0])\n",
    "    print(outtext)"
   ]
  },
  {
   "cell_type": "code",
   "execution_count": 28,
   "metadata": {},
   "outputs": [
    {
     "name": "stderr",
     "output_type": "stream",
     "text": [
      "Setting `pad_token_id` to `eos_token_id`:50256 for open-end generation.\n"
     ]
    },
    {
     "name": "stdout",
     "output_type": "stream",
     "text": [
      "Monika: \"I deleted all their files.\"\n",
      "Monika: \"I'm not sure if I can ever get them back.\"\n",
      "Monika: \"But I'll keep trying.\"\n",
      "Monika: \"It's just a shame they're so hard to find.\"\n",
      "Monika: \"They're usually hidden in the background.\"\n",
      "Monika: \"You know, like the ones that are always on the top of your screen.\"\n",
      "Monika: \"Like the ones that you don't even notice.\"\n",
      "Monika: \"Or\n"
     ]
    }
   ],
   "source": [
    "gentext('Monika: \"I deleted all their files.\"', 100)"
   ]
  },
  {
   "cell_type": "code",
   "execution_count": 29,
   "metadata": {},
   "outputs": [
    {
     "name": "stderr",
     "output_type": "stream",
     "text": [
      "Setting `pad_token_id` to `eos_token_id`:50256 for open-end generation.\n"
     ]
    },
    {
     "name": "stdout",
     "output_type": "stream",
     "text": [
      "Monika: \"Have you heard about progress in AI recently?\"\n",
      "\n",
      "Monika: \"I'm not sure if it's been a big deal, but I've noticed that some of the AI seems to be getting better.\"\n",
      "Monika: \"It's like they're learning how to do things faster than before.\"\n",
      "Monika: \"They might even be able to figure out how to solve problems for themselves.\"\n",
      "Monika: \"But I don't think they'll ever get anywhere near as good as humans.\"\n",
      "Monika: \"And even\n"
     ]
    }
   ],
   "source": [
    "gentext('Monika: \"Have you heard about progress in AI recently?\"', 100)"
   ]
  },
  {
   "cell_type": "code",
   "execution_count": 30,
   "metadata": {},
   "outputs": [
    {
     "name": "stderr",
     "output_type": "stream",
     "text": [
      "Setting `pad_token_id` to `eos_token_id`:50256 for open-end generation.\n"
     ]
    },
    {
     "name": "stdout",
     "output_type": "stream",
     "text": [
      "[player]: \"What do you think about cheese?\"\n",
      "Monika: \"I'm not really into it.\"\n",
      "Monika: \"It's just too much work.\"\n",
      "Monika: \"I don't know if I can eat it all.\"\n",
      "Monika: \"I guess I'll have to try some other things.\"\n",
      "Monika: \"I mean, I could always go back to eating meat.\"\n",
      "Monika: \"But that would be a little weird.\"\n",
      "Monika: \"I'd probably just end up with a whole lot of junk.\"\n"
     ]
    }
   ],
   "source": [
    "gentext('[player]: \"What do you think about cheese?\"\\nMonika:', 100)"
   ]
  }
 ],
 "metadata": {
  "kernelspec": {
   "display_name": "Python 3",
   "language": "python",
   "name": "python3"
  },
  "language_info": {
   "codemirror_mode": {
    "name": "ipython",
    "version": 3
   },
   "file_extension": ".py",
   "mimetype": "text/x-python",
   "name": "python",
   "nbconvert_exporter": "python",
   "pygments_lexer": "ipython3",
   "version": "3.11.3"
  },
  "orig_nbformat": 4
 },
 "nbformat": 4,
 "nbformat_minor": 2
}
