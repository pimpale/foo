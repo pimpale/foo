{
 "cells": [
  {
   "cell_type": "code",
   "execution_count": 3,
   "metadata": {},
   "outputs": [
    {
     "name": "stdout",
     "output_type": "stream",
     "text": [
      "1HPRE9SA2RSI9LKHW935XJRCLNDG4M092Q4M47HKG1YKDDCQ3W6PGRN7ZYN4\n"
     ]
    }
   ],
   "source": [
    "import pathlib\n",
    "\n",
    "moonshine_api_key = pathlib.Path('~/tokens/moonshinedemo').expanduser().read_text().strip()\n",
    "\n",
    "print(moonshine_api_key)"
   ]
  },
  {
   "cell_type": "code",
   "execution_count": 5,
   "metadata": {},
   "outputs": [],
   "source": [
    "import moonshine\n",
    "moonshine.config(API=moonshine_api_key)"
   ]
  },
  {
   "cell_type": "code",
   "execution_count": 14,
   "metadata": {},
   "outputs": [
    {
     "ename": "ValueError",
     "evalue": "Index mr_incredible_learns already exists.",
     "output_type": "error",
     "traceback": [
      "\u001b[0;31m---------------------------------------------------------------------------\u001b[0m",
      "\u001b[0;31mValueError\u001b[0m                                Traceback (most recent call last)",
      "Cell \u001b[0;32mIn[14], line 1\u001b[0m\n\u001b[0;32m----> 1\u001b[0m resp \u001b[38;5;241m=\u001b[39m \u001b[43mmoonshine\u001b[49m\u001b[38;5;241;43m.\u001b[39;49m\u001b[43mcreate\u001b[49m\u001b[43m(\u001b[49m\u001b[38;5;124;43m\"\u001b[39;49m\u001b[38;5;124;43mmr_incredible_learns\u001b[39;49m\u001b[38;5;124;43m\"\u001b[39;49m\u001b[43m)\u001b[49m\n",
      "File \u001b[0;32m~/.conda/envs/moonshinedemo/lib/python3.12/site-packages/moonshine/moonshine.py:181\u001b[0m, in \u001b[0;36mcreate\u001b[0;34m(bucket)\u001b[0m\n\u001b[1;32m    178\u001b[0m     \u001b[38;5;28;01mraise\u001b[39;00m \u001b[38;5;167;01mValueError\u001b[39;00m(\u001b[38;5;124m\"\u001b[39m\u001b[38;5;124mAPI token not configured. Call moonshine.config(API=\u001b[39m\u001b[38;5;124m'\u001b[39m\u001b[38;5;124myour-token\u001b[39m\u001b[38;5;124m'\u001b[39m\u001b[38;5;124m) first.\u001b[39m\u001b[38;5;124m\"\u001b[39m)\n\u001b[1;32m    180\u001b[0m \u001b[38;5;28;01mif\u001b[39;00m _does_bucket_exist(bucket):\n\u001b[0;32m--> 181\u001b[0m     \u001b[38;5;28;01mraise\u001b[39;00m \u001b[38;5;167;01mValueError\u001b[39;00m(\u001b[38;5;124mf\u001b[39m\u001b[38;5;124m\"\u001b[39m\u001b[38;5;124mIndex \u001b[39m\u001b[38;5;132;01m{\u001b[39;00mbucket\u001b[38;5;132;01m}\u001b[39;00m\u001b[38;5;124m already exists.\u001b[39m\u001b[38;5;124m\"\u001b[39m)\n\u001b[1;32m    183\u001b[0m base_url \u001b[38;5;241m=\u001b[39m \u001b[38;5;124m\"\u001b[39m\u001b[38;5;124mhttps://www.moonshine-edge-compute.com/create-media-group\u001b[39m\u001b[38;5;124m\"\u001b[39m\n\u001b[1;32m    185\u001b[0m params \u001b[38;5;241m=\u001b[39m {\n\u001b[1;32m    186\u001b[0m     \u001b[38;5;124m'\u001b[39m\u001b[38;5;124muserid\u001b[39m\u001b[38;5;124m'\u001b[39m: _CONFIG[\u001b[38;5;124m'\u001b[39m\u001b[38;5;124mapi_token\u001b[39m\u001b[38;5;124m'\u001b[39m],\n\u001b[1;32m    187\u001b[0m     \u001b[38;5;124m'\u001b[39m\u001b[38;5;124mprojectname\u001b[39m\u001b[38;5;124m'\u001b[39m: _CONFIG[\u001b[38;5;124m'\u001b[39m\u001b[38;5;124mapi_token\u001b[39m\u001b[38;5;124m'\u001b[39m] \u001b[38;5;241m+\u001b[39m bucket,\n\u001b[1;32m    188\u001b[0m     \u001b[38;5;124m'\u001b[39m\u001b[38;5;124mprojectdescription\u001b[39m\u001b[38;5;124m'\u001b[39m: \u001b[38;5;124m\"\u001b[39m\u001b[38;5;124mapi\u001b[39m\u001b[38;5;124m\"\u001b[39m,\n\u001b[1;32m    189\u001b[0m     \u001b[38;5;124m'\u001b[39m\u001b[38;5;124mfrom\u001b[39m\u001b[38;5;124m'\u001b[39m: \u001b[38;5;124m\"\u001b[39m\u001b[38;5;124mapi\u001b[39m\u001b[38;5;124m\"\u001b[39m,\n\u001b[1;32m    190\u001b[0m }\n",
      "\u001b[0;31mValueError\u001b[0m: Index mr_incredible_learns already exists."
     ]
    }
   ],
   "source": [
    "resp = moonshine.create(\"mr_incredible_learns\")"
   ]
  },
  {
   "cell_type": "code",
   "execution_count": 7,
   "metadata": {},
   "outputs": [
    {
     "name": "stdout",
     "output_type": "stream",
     "text": [
      "{'status': 'success'}\n"
     ]
    }
   ],
   "source": [
    "print(resp)"
   ]
  },
  {
   "cell_type": "code",
   "execution_count": 9,
   "metadata": {},
   "outputs": [
    {
     "name": "stdout",
     "output_type": "stream",
     "text": [
      "Video duration: 185.08 seconds\n",
      "Video FPS: 29.97\n",
      "{'status': 'uploading', 'progress': 0, 'src': './mr_incredible_learns.mp4', 'file_id': 'ZYCG2ZU9O8YKW9Y.mp4'}\n",
      "{'status': 'uploading', 'progress': 1, 'src': './mr_incredible_learns.mp4', 'file_id': 'ZYCG2ZU9O8YKW9Y.mp4'}\n",
      "{'status': 'uploading', 'progress': 2, 'src': './mr_incredible_learns.mp4', 'file_id': 'ZYCG2ZU9O8YKW9Y.mp4'}\n",
      "{'status': 'uploading', 'progress': 3, 'src': './mr_incredible_learns.mp4', 'file_id': 'ZYCG2ZU9O8YKW9Y.mp4'}\n",
      "{'status': 'uploading', 'progress': 4, 'src': './mr_incredible_learns.mp4', 'file_id': 'ZYCG2ZU9O8YKW9Y.mp4'}\n",
      "{'status': 'uploading', 'progress': 5, 'src': './mr_incredible_learns.mp4', 'file_id': 'ZYCG2ZU9O8YKW9Y.mp4'}\n",
      "{'status': 'uploading', 'progress': 6, 'src': './mr_incredible_learns.mp4', 'file_id': 'ZYCG2ZU9O8YKW9Y.mp4'}\n",
      "{'status': 'uploading', 'progress': 7, 'src': './mr_incredible_learns.mp4', 'file_id': 'ZYCG2ZU9O8YKW9Y.mp4'}\n",
      "{'status': 'uploading', 'progress': 8, 'src': './mr_incredible_learns.mp4', 'file_id': 'ZYCG2ZU9O8YKW9Y.mp4'}\n",
      "{'status': 'uploading', 'progress': 9, 'src': './mr_incredible_learns.mp4', 'file_id': 'ZYCG2ZU9O8YKW9Y.mp4'}\n",
      "{'status': 'uploading', 'progress': 10, 'src': './mr_incredible_learns.mp4', 'file_id': 'ZYCG2ZU9O8YKW9Y.mp4'}\n",
      "{'status': 'uploading', 'progress': 11, 'src': './mr_incredible_learns.mp4', 'file_id': 'ZYCG2ZU9O8YKW9Y.mp4'}\n",
      "{'status': 'uploading', 'progress': 12, 'src': './mr_incredible_learns.mp4', 'file_id': 'ZYCG2ZU9O8YKW9Y.mp4'}\n",
      "{'status': 'uploading', 'progress': 13, 'src': './mr_incredible_learns.mp4', 'file_id': 'ZYCG2ZU9O8YKW9Y.mp4'}\n",
      "{'status': 'uploading', 'progress': 14, 'src': './mr_incredible_learns.mp4', 'file_id': 'ZYCG2ZU9O8YKW9Y.mp4'}\n",
      "{'status': 'uploading', 'progress': 15, 'src': './mr_incredible_learns.mp4', 'file_id': 'ZYCG2ZU9O8YKW9Y.mp4'}\n",
      "{'status': 'uploading', 'progress': 16, 'src': './mr_incredible_learns.mp4', 'file_id': 'ZYCG2ZU9O8YKW9Y.mp4'}\n",
      "{'status': 'uploading', 'progress': 17, 'src': './mr_incredible_learns.mp4', 'file_id': 'ZYCG2ZU9O8YKW9Y.mp4'}\n",
      "{'status': 'uploading', 'progress': 18, 'src': './mr_incredible_learns.mp4', 'file_id': 'ZYCG2ZU9O8YKW9Y.mp4'}\n",
      "{'status': 'uploading', 'progress': 19, 'src': './mr_incredible_learns.mp4', 'file_id': 'ZYCG2ZU9O8YKW9Y.mp4'}\n",
      "{'status': 'uploading', 'progress': 20, 'src': './mr_incredible_learns.mp4', 'file_id': 'ZYCG2ZU9O8YKW9Y.mp4'}\n",
      "{'status': 'uploading', 'progress': 21, 'src': './mr_incredible_learns.mp4', 'file_id': 'ZYCG2ZU9O8YKW9Y.mp4'}\n",
      "{'status': 'uploading', 'progress': 22, 'src': './mr_incredible_learns.mp4', 'file_id': 'ZYCG2ZU9O8YKW9Y.mp4'}\n",
      "{'status': 'uploading', 'progress': 23, 'src': './mr_incredible_learns.mp4', 'file_id': 'ZYCG2ZU9O8YKW9Y.mp4'}\n",
      "{'status': 'uploading', 'progress': 24, 'src': './mr_incredible_learns.mp4', 'file_id': 'ZYCG2ZU9O8YKW9Y.mp4'}\n",
      "{'status': 'uploading', 'progress': 25, 'src': './mr_incredible_learns.mp4', 'file_id': 'ZYCG2ZU9O8YKW9Y.mp4'}\n",
      "{'status': 'uploading', 'progress': 26, 'src': './mr_incredible_learns.mp4', 'file_id': 'ZYCG2ZU9O8YKW9Y.mp4'}\n",
      "{'status': 'uploading', 'progress': 27, 'src': './mr_incredible_learns.mp4', 'file_id': 'ZYCG2ZU9O8YKW9Y.mp4'}\n",
      "{'status': 'uploading', 'progress': 28, 'src': './mr_incredible_learns.mp4', 'file_id': 'ZYCG2ZU9O8YKW9Y.mp4'}\n",
      "{'status': 'uploading', 'progress': 29, 'src': './mr_incredible_learns.mp4', 'file_id': 'ZYCG2ZU9O8YKW9Y.mp4'}\n",
      "{'status': 'uploading', 'progress': 30, 'src': './mr_incredible_learns.mp4', 'file_id': 'ZYCG2ZU9O8YKW9Y.mp4'}\n",
      "{'status': 'uploading', 'progress': 31, 'src': './mr_incredible_learns.mp4', 'file_id': 'ZYCG2ZU9O8YKW9Y.mp4'}\n",
      "{'status': 'uploading', 'progress': 32, 'src': './mr_incredible_learns.mp4', 'file_id': 'ZYCG2ZU9O8YKW9Y.mp4'}\n",
      "{'status': 'uploading', 'progress': 33, 'src': './mr_incredible_learns.mp4', 'file_id': 'ZYCG2ZU9O8YKW9Y.mp4'}\n",
      "{'status': 'uploading', 'progress': 34, 'src': './mr_incredible_learns.mp4', 'file_id': 'ZYCG2ZU9O8YKW9Y.mp4'}\n",
      "{'status': 'uploading', 'progress': 35, 'src': './mr_incredible_learns.mp4', 'file_id': 'ZYCG2ZU9O8YKW9Y.mp4'}\n",
      "{'status': 'uploading', 'progress': 36, 'src': './mr_incredible_learns.mp4', 'file_id': 'ZYCG2ZU9O8YKW9Y.mp4'}\n",
      "{'status': 'uploading', 'progress': 37, 'src': './mr_incredible_learns.mp4', 'file_id': 'ZYCG2ZU9O8YKW9Y.mp4'}\n",
      "{'status': 'uploading', 'progress': 38, 'src': './mr_incredible_learns.mp4', 'file_id': 'ZYCG2ZU9O8YKW9Y.mp4'}\n",
      "{'status': 'uploading', 'progress': 39, 'src': './mr_incredible_learns.mp4', 'file_id': 'ZYCG2ZU9O8YKW9Y.mp4'}\n",
      "{'status': 'uploading', 'progress': 40, 'src': './mr_incredible_learns.mp4', 'file_id': 'ZYCG2ZU9O8YKW9Y.mp4'}\n",
      "{'status': 'uploading', 'progress': 41, 'src': './mr_incredible_learns.mp4', 'file_id': 'ZYCG2ZU9O8YKW9Y.mp4'}\n",
      "{'status': 'uploading', 'progress': 42, 'src': './mr_incredible_learns.mp4', 'file_id': 'ZYCG2ZU9O8YKW9Y.mp4'}\n",
      "{'status': 'uploading', 'progress': 43, 'src': './mr_incredible_learns.mp4', 'file_id': 'ZYCG2ZU9O8YKW9Y.mp4'}\n",
      "{'status': 'uploading', 'progress': 44, 'src': './mr_incredible_learns.mp4', 'file_id': 'ZYCG2ZU9O8YKW9Y.mp4'}\n",
      "{'status': 'uploading', 'progress': 45, 'src': './mr_incredible_learns.mp4', 'file_id': 'ZYCG2ZU9O8YKW9Y.mp4'}\n",
      "{'status': 'uploading', 'progress': 46, 'src': './mr_incredible_learns.mp4', 'file_id': 'ZYCG2ZU9O8YKW9Y.mp4'}\n",
      "{'status': 'uploading', 'progress': 47, 'src': './mr_incredible_learns.mp4', 'file_id': 'ZYCG2ZU9O8YKW9Y.mp4'}\n",
      "{'status': 'uploading', 'progress': 48, 'src': './mr_incredible_learns.mp4', 'file_id': 'ZYCG2ZU9O8YKW9Y.mp4'}\n",
      "{'status': 'uploading', 'progress': 49, 'src': './mr_incredible_learns.mp4', 'file_id': 'ZYCG2ZU9O8YKW9Y.mp4'}\n",
      "{'status': 'uploading', 'progress': 50, 'src': './mr_incredible_learns.mp4', 'file_id': 'ZYCG2ZU9O8YKW9Y.mp4'}\n",
      "{'status': 'uploading', 'progress': 51, 'src': './mr_incredible_learns.mp4', 'file_id': 'ZYCG2ZU9O8YKW9Y.mp4'}\n",
      "{'status': 'uploading', 'progress': 52, 'src': './mr_incredible_learns.mp4', 'file_id': 'ZYCG2ZU9O8YKW9Y.mp4'}\n",
      "{'status': 'uploading', 'progress': 53, 'src': './mr_incredible_learns.mp4', 'file_id': 'ZYCG2ZU9O8YKW9Y.mp4'}\n",
      "{'status': 'uploading', 'progress': 54, 'src': './mr_incredible_learns.mp4', 'file_id': 'ZYCG2ZU9O8YKW9Y.mp4'}\n",
      "{'status': 'uploading', 'progress': 55, 'src': './mr_incredible_learns.mp4', 'file_id': 'ZYCG2ZU9O8YKW9Y.mp4'}\n",
      "{'status': 'uploading', 'progress': 56, 'src': './mr_incredible_learns.mp4', 'file_id': 'ZYCG2ZU9O8YKW9Y.mp4'}\n",
      "{'status': 'uploading', 'progress': 57, 'src': './mr_incredible_learns.mp4', 'file_id': 'ZYCG2ZU9O8YKW9Y.mp4'}\n",
      "{'status': 'uploading', 'progress': 58, 'src': './mr_incredible_learns.mp4', 'file_id': 'ZYCG2ZU9O8YKW9Y.mp4'}\n",
      "{'status': 'uploading', 'progress': 59, 'src': './mr_incredible_learns.mp4', 'file_id': 'ZYCG2ZU9O8YKW9Y.mp4'}\n",
      "{'status': 'uploading', 'progress': 60, 'src': './mr_incredible_learns.mp4', 'file_id': 'ZYCG2ZU9O8YKW9Y.mp4'}\n",
      "{'status': 'uploading', 'progress': 61, 'src': './mr_incredible_learns.mp4', 'file_id': 'ZYCG2ZU9O8YKW9Y.mp4'}\n",
      "{'status': 'uploading', 'progress': 62, 'src': './mr_incredible_learns.mp4', 'file_id': 'ZYCG2ZU9O8YKW9Y.mp4'}\n",
      "{'status': 'uploading', 'progress': 63, 'src': './mr_incredible_learns.mp4', 'file_id': 'ZYCG2ZU9O8YKW9Y.mp4'}\n",
      "{'status': 'uploading', 'progress': 64, 'src': './mr_incredible_learns.mp4', 'file_id': 'ZYCG2ZU9O8YKW9Y.mp4'}\n",
      "{'status': 'uploading', 'progress': 65, 'src': './mr_incredible_learns.mp4', 'file_id': 'ZYCG2ZU9O8YKW9Y.mp4'}\n",
      "{'status': 'uploading', 'progress': 66, 'src': './mr_incredible_learns.mp4', 'file_id': 'ZYCG2ZU9O8YKW9Y.mp4'}\n",
      "{'status': 'uploading', 'progress': 67, 'src': './mr_incredible_learns.mp4', 'file_id': 'ZYCG2ZU9O8YKW9Y.mp4'}\n",
      "{'status': 'uploading', 'progress': 68, 'src': './mr_incredible_learns.mp4', 'file_id': 'ZYCG2ZU9O8YKW9Y.mp4'}\n",
      "{'status': 'uploading', 'progress': 69, 'src': './mr_incredible_learns.mp4', 'file_id': 'ZYCG2ZU9O8YKW9Y.mp4'}\n",
      "{'status': 'uploading', 'progress': 70, 'src': './mr_incredible_learns.mp4', 'file_id': 'ZYCG2ZU9O8YKW9Y.mp4'}\n",
      "{'status': 'uploading', 'progress': 71, 'src': './mr_incredible_learns.mp4', 'file_id': 'ZYCG2ZU9O8YKW9Y.mp4'}\n",
      "{'status': 'uploading', 'progress': 72, 'src': './mr_incredible_learns.mp4', 'file_id': 'ZYCG2ZU9O8YKW9Y.mp4'}\n",
      "{'status': 'uploading', 'progress': 73, 'src': './mr_incredible_learns.mp4', 'file_id': 'ZYCG2ZU9O8YKW9Y.mp4'}\n",
      "{'status': 'uploading', 'progress': 74, 'src': './mr_incredible_learns.mp4', 'file_id': 'ZYCG2ZU9O8YKW9Y.mp4'}\n",
      "{'status': 'uploading', 'progress': 75, 'src': './mr_incredible_learns.mp4', 'file_id': 'ZYCG2ZU9O8YKW9Y.mp4'}\n",
      "{'status': 'uploading', 'progress': 76, 'src': './mr_incredible_learns.mp4', 'file_id': 'ZYCG2ZU9O8YKW9Y.mp4'}\n",
      "{'status': 'uploading', 'progress': 77, 'src': './mr_incredible_learns.mp4', 'file_id': 'ZYCG2ZU9O8YKW9Y.mp4'}\n",
      "{'status': 'uploading', 'progress': 78, 'src': './mr_incredible_learns.mp4', 'file_id': 'ZYCG2ZU9O8YKW9Y.mp4'}\n",
      "{'status': 'uploading', 'progress': 79, 'src': './mr_incredible_learns.mp4', 'file_id': 'ZYCG2ZU9O8YKW9Y.mp4'}\n",
      "{'status': 'uploading', 'progress': 80, 'src': './mr_incredible_learns.mp4', 'file_id': 'ZYCG2ZU9O8YKW9Y.mp4'}\n",
      "{'status': 'uploading', 'progress': 81, 'src': './mr_incredible_learns.mp4', 'file_id': 'ZYCG2ZU9O8YKW9Y.mp4'}\n",
      "{'status': 'uploading', 'progress': 82, 'src': './mr_incredible_learns.mp4', 'file_id': 'ZYCG2ZU9O8YKW9Y.mp4'}\n",
      "{'status': 'uploading', 'progress': 83, 'src': './mr_incredible_learns.mp4', 'file_id': 'ZYCG2ZU9O8YKW9Y.mp4'}\n",
      "{'status': 'uploading', 'progress': 84, 'src': './mr_incredible_learns.mp4', 'file_id': 'ZYCG2ZU9O8YKW9Y.mp4'}\n",
      "{'status': 'uploading', 'progress': 85, 'src': './mr_incredible_learns.mp4', 'file_id': 'ZYCG2ZU9O8YKW9Y.mp4'}\n",
      "{'status': 'uploading', 'progress': 86, 'src': './mr_incredible_learns.mp4', 'file_id': 'ZYCG2ZU9O8YKW9Y.mp4'}\n",
      "{'status': 'uploading', 'progress': 87, 'src': './mr_incredible_learns.mp4', 'file_id': 'ZYCG2ZU9O8YKW9Y.mp4'}\n",
      "{'status': 'uploading', 'progress': 88, 'src': './mr_incredible_learns.mp4', 'file_id': 'ZYCG2ZU9O8YKW9Y.mp4'}\n",
      "{'status': 'uploading', 'progress': 89, 'src': './mr_incredible_learns.mp4', 'file_id': 'ZYCG2ZU9O8YKW9Y.mp4'}\n",
      "{'status': 'uploading', 'progress': 90, 'src': './mr_incredible_learns.mp4', 'file_id': 'ZYCG2ZU9O8YKW9Y.mp4'}\n",
      "{'status': 'uploading', 'progress': 91, 'src': './mr_incredible_learns.mp4', 'file_id': 'ZYCG2ZU9O8YKW9Y.mp4'}\n",
      "{'status': 'uploading', 'progress': 92, 'src': './mr_incredible_learns.mp4', 'file_id': 'ZYCG2ZU9O8YKW9Y.mp4'}\n",
      "{'status': 'uploading', 'progress': 93, 'src': './mr_incredible_learns.mp4', 'file_id': 'ZYCG2ZU9O8YKW9Y.mp4'}\n",
      "{'status': 'uploading', 'progress': 94, 'src': './mr_incredible_learns.mp4', 'file_id': 'ZYCG2ZU9O8YKW9Y.mp4'}\n",
      "{'status': 'uploading', 'progress': 95, 'src': './mr_incredible_learns.mp4', 'file_id': 'ZYCG2ZU9O8YKW9Y.mp4'}\n",
      "{'status': 'uploading', 'progress': 96, 'src': './mr_incredible_learns.mp4', 'file_id': 'ZYCG2ZU9O8YKW9Y.mp4'}\n",
      "{'status': 'uploading', 'progress': 97, 'src': './mr_incredible_learns.mp4', 'file_id': 'ZYCG2ZU9O8YKW9Y.mp4'}\n",
      "{'status': 'uploading', 'progress': 98, 'src': './mr_incredible_learns.mp4', 'file_id': 'ZYCG2ZU9O8YKW9Y.mp4'}\n",
      "{'status': 'uploading', 'progress': 99, 'src': './mr_incredible_learns.mp4', 'file_id': 'ZYCG2ZU9O8YKW9Y.mp4'}\n",
      "{'status': 'uploading', 'progress': 100, 'src': './mr_incredible_learns.mp4', 'file_id': 'ZYCG2ZU9O8YKW9Y.mp4'}\n",
      "{'status': 'uploading', 'progress': 100, 'src': './mr_incredible_learns.mp4', 'file_id': 'ZYCG2ZU9O8YKW9Y.mp4'}\n",
      "{'status': 'indexing', 'progress': 0, 'src': './mr_incredible_learns.mp4', 'file_id': 'ZYCG2ZU9O8YKW9Y.mp4'}\n",
      "{'status': 'indexing', 'progress': 0, 'src': './mr_incredible_learns.mp4', 'file_id': 'ZYCG2ZU9O8YKW9Y.mp4'}\n",
      "{'status': 'indexing', 'progress': 17, 'src': './mr_incredible_learns.mp4', 'file_id': 'ZYCG2ZU9O8YKW9Y.mp4'}\n",
      "{'status': 'indexing', 'progress': 33, 'src': './mr_incredible_learns.mp4', 'file_id': 'ZYCG2ZU9O8YKW9Y.mp4'}\n",
      "{'status': 'indexing', 'progress': 33, 'src': './mr_incredible_learns.mp4', 'file_id': 'ZYCG2ZU9O8YKW9Y.mp4'}\n",
      "{'status': 'indexing', 'progress': 33, 'src': './mr_incredible_learns.mp4', 'file_id': 'ZYCG2ZU9O8YKW9Y.mp4'}\n",
      "{'status': 'indexing', 'progress': 33, 'src': './mr_incredible_learns.mp4', 'file_id': 'ZYCG2ZU9O8YKW9Y.mp4'}\n",
      "{'status': 'indexing', 'progress': 66, 'src': './mr_incredible_learns.mp4', 'file_id': 'ZYCG2ZU9O8YKW9Y.mp4'}\n",
      "{'status': 'indexing', 'progress': 66, 'src': './mr_incredible_learns.mp4', 'file_id': 'ZYCG2ZU9O8YKW9Y.mp4'}\n",
      "{'status': 'indexing', 'progress': 70, 'src': './mr_incredible_learns.mp4', 'file_id': 'ZYCG2ZU9O8YKW9Y.mp4'}\n",
      "{'status': 'indexing', 'progress': 73, 'src': './mr_incredible_learns.mp4', 'file_id': 'ZYCG2ZU9O8YKW9Y.mp4'}\n",
      "{'status': 'indexing', 'progress': 77, 'src': './mr_incredible_learns.mp4', 'file_id': 'ZYCG2ZU9O8YKW9Y.mp4'}\n",
      "{'status': 'indexing', 'progress': 80, 'src': './mr_incredible_learns.mp4', 'file_id': 'ZYCG2ZU9O8YKW9Y.mp4'}\n",
      "{'status': 'indexing', 'progress': 83, 'src': './mr_incredible_learns.mp4', 'file_id': 'ZYCG2ZU9O8YKW9Y.mp4'}\n",
      "{'status': 'indexing', 'progress': 86, 'src': './mr_incredible_learns.mp4', 'file_id': 'ZYCG2ZU9O8YKW9Y.mp4'}\n",
      "{'status': 'indexing', 'progress': 89, 'src': './mr_incredible_learns.mp4', 'file_id': 'ZYCG2ZU9O8YKW9Y.mp4'}\n",
      "{'status': 'indexing', 'progress': 92, 'src': './mr_incredible_learns.mp4', 'file_id': 'ZYCG2ZU9O8YKW9Y.mp4'}\n",
      "{'status': 'indexing', 'progress': 95, 'src': './mr_incredible_learns.mp4', 'file_id': 'ZYCG2ZU9O8YKW9Y.mp4'}\n",
      "{'status': 'indexing', 'progress': 98, 'src': './mr_incredible_learns.mp4', 'file_id': 'ZYCG2ZU9O8YKW9Y.mp4'}\n",
      "{'status': 'indexing', 'progress': 100, 'src': './mr_incredible_learns.mp4', 'file_id': 'ZYCG2ZU9O8YKW9Y.mp4'}\n"
     ]
    }
   ],
   "source": [
    "def progress_callback(progress: float):\n",
    "       print(progress)\n",
    "\n",
    "fileid = await moonshine.upload(\"./mr_incredible_learns.mp4\", \"mr_incredible_learns\", progress_callback)"
   ]
  },
  {
   "cell_type": "code",
   "execution_count": 12,
   "metadata": {},
   "outputs": [],
   "source": [
    "search_resp = moonshine.search(\"mr_incredible_learns\", \"kronos\")"
   ]
  },
  {
   "cell_type": "code",
   "execution_count": 13,
   "metadata": {},
   "outputs": [
    {
     "data": {
      "text/plain": [
       "{'status': 'complete',\n",
       " 'output': {'embeddings': [['ZYCG2ZU9O8YKW9Y.mp4',\n",
       "    1379,\n",
       "    1466,\n",
       "    '0 min, 45 sec',\n",
       "    '0 min, 48 sec',\n",
       "    212.14163208007812,\n",
       "    'Embedding',\n",
       "    [1390, 1400, 1410, 1380]],\n",
       "   ['ZYCG2ZU9O8YKW9Y.mp4',\n",
       "    4064,\n",
       "    4177,\n",
       "    '2 min, 15 sec',\n",
       "    '2 min, 19 sec',\n",
       "    215.13461303710938,\n",
       "    'Embedding',\n",
       "    [4070]]],\n",
       "  'transcript': [],\n",
       "  'ocr': [['ZYCG2ZU9O8YKW9Y.mp4',\n",
       "    4031,\n",
       "    4180.85014985015,\n",
       "    '2 min, 14 sec',\n",
       "    '2 min, 19 sec',\n",
       "    '8 | KRONOS 1 2 ',\n",
       "    'OCR']]}}"
      ]
     },
     "execution_count": 13,
     "metadata": {},
     "output_type": "execute_result"
    }
   ],
   "source": [
    "search_resp"
   ]
  },
  {
   "cell_type": "code",
   "execution_count": 15,
   "metadata": {},
   "outputs": [],
   "source": [
    "resp = moonshine.inquire(\"mr_incredible_learns\", \"What are the names of the superheroes who died?\")"
   ]
  },
  {
   "cell_type": "code",
   "execution_count": 17,
   "metadata": {},
   "outputs": [
    {
     "name": "stdout",
     "output_type": "stream",
     "text": [
      "Based on the screenshots from the video, the superheroes who were terminated are:\n",
      "\n",
      "1. Universal Man\n",
      "2. Psycwave\n",
      "3. Everseer\n",
      "4. Macroburst\n",
      "5. Phylange\n",
      "6. Downburst\n",
      "7. Hyper Shock\n",
      "8. Apogee\n",
      "9. Stormicide\n",
      "10. Gamma Jack\n"
     ]
    }
   ],
   "source": [
    "print(resp)"
   ]
  }
 ],
 "metadata": {
  "kernelspec": {
   "display_name": "moonshinedemo",
   "language": "python",
   "name": "python3"
  },
  "language_info": {
   "codemirror_mode": {
    "name": "ipython",
    "version": 3
   },
   "file_extension": ".py",
   "mimetype": "text/x-python",
   "name": "python",
   "nbconvert_exporter": "python",
   "pygments_lexer": "ipython3",
   "version": "3.12.7"
  }
 },
 "nbformat": 4,
 "nbformat_minor": 2
}
