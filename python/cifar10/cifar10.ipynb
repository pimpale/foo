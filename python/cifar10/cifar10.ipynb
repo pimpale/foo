{
 "cells": [
  {
   "cell_type": "code",
   "execution_count": 103,
   "metadata": {},
   "outputs": [],
   "source": [
    "import torch\n",
    "import torchvision\n",
    "import torchvision.transforms as transforms\n",
    "import numpy as np\n",
    "import matplotlib.pyplot as plt"
   ]
  },
  {
   "cell_type": "code",
   "execution_count": 104,
   "metadata": {},
   "outputs": [],
   "source": [
    "classes = (\n",
    "    \"plane\",\n",
    "    \"car\",\n",
    "    \"bird\",\n",
    "    \"cat\",\n",
    "    \"deer\",\n",
    "    \"dog\",\n",
    "    \"frog\",\n",
    "    \"horse\",\n",
    "    \"ship\",\n",
    "    \"truck\",\n",
    ")"
   ]
  },
  {
   "cell_type": "code",
   "execution_count": 105,
   "metadata": {},
   "outputs": [
    {
     "name": "stdout",
     "output_type": "stream",
     "text": [
      "Files already downloaded and verified\n",
      "Files already downloaded and verified\n"
     ]
    }
   ],
   "source": [
    "testset = torchvision.datasets.CIFAR10(\n",
    "    root=\"./data\",\n",
    "    train=False,\n",
    "    download=True,\n",
    "    transform=transforms.Compose([\n",
    "        transforms.ToTensor(),\n",
    "        transforms.Normalize((0.5, 0.5, 0.5), (0.5, 0.5, 0.5)),\n",
    "    ]),\n",
    ")\n",
    "trainset_augment = torchvision.datasets.CIFAR10(\n",
    "    root=\"./data\",\n",
    "    train=True,\n",
    "    download=True,\n",
    "    transform=transforms.Compose([\n",
    "        transforms.RandomHorizontalFlip(),\n",
    "        transforms.RandomRotation(10),\n",
    "        transforms.ToTensor(),\n",
    "        transforms.Normalize((0.5, 0.5, 0.5), (0.5, 0.5, 0.5)),\n",
    "    ]),\n",
    ")\n",
    "\n",
    "# train loader has batch size 256 since we want to not overruse our data\n",
    "trainloader_augment = torch.utils.data.DataLoader(\n",
    "    trainset_augment, batch_size=256, shuffle=True, num_workers=8\n",
    ")\n",
    "\n",
    "# test loader has bigger batch size since we care only about efficiency\n",
    "testloader = torch.utils.data.DataLoader(\n",
    "    testset, batch_size=1024, shuffle=False, num_workers=8\n",
    ")\n"
   ]
  },
  {
   "cell_type": "code",
   "execution_count": 112,
   "metadata": {},
   "outputs": [],
   "source": [
    "import torch.nn as nn\n",
    "import torch.nn.functional as F\n",
    "\n",
    "\n",
    "class Net(nn.Module):\n",
    "    def __init__(self):\n",
    "        super().__init__()\n",
    "        self.conv1 = nn.Conv2d(3, 6, 5)\n",
    "        self.pool = nn.MaxPool2d(2, 2)\n",
    "        self.conv2 = nn.Conv2d(6, 16, 5)\n",
    "        self.fc1 = nn.Linear(16 * 5 * 5, 120)\n",
    "        self.fc2 = nn.Linear(120, 84)\n",
    "        self.fc3 = nn.Linear(84, 10)\n",
    "\n",
    "    def forward(self, x):\n",
    "        x = self.pool(F.relu(self.conv1(x)))\n",
    "        x = self.pool(F.relu(self.conv2(x)))\n",
    "        x = torch.flatten(x, 1) # flatten all dimensions except batch\n",
    "        x = F.relu(self.fc1(x))\n",
    "        x = F.relu(self.fc2(x))\n",
    "        x = self.fc3(x)\n",
    "        return x\n",
    "\n",
    "\n",
    "def train_net(\n",
    "        net: Net,\n",
    "        net_optimizer: torch.optim.Optimizer,\n",
    "        data_tensor: torch.Tensor,\n",
    "        label_tensor: torch.Tensor,\n",
    ") -> float:\n",
    "    device = next(net.parameters()).device\n",
    "\n",
    "    data_tensor = data_tensor.to(device)\n",
    "    label_tensor = label_tensor.to(device)\n",
    "\n",
    "    net_optimizer.zero_grad()\n",
    "\n",
    "    pred_label = net(data_tensor)\n",
    "\n",
    "    loss = F.cross_entropy(pred_label, label_tensor)\n",
    "    loss.backward()\n",
    "\n",
    "    net_optimizer.step()\n",
    "\n",
    "    return float(loss.item())\n",
    "\n",
    "def get_avg_loss_accuracy(\n",
    "        net: Net,\n",
    "        data_loader: torch.utils.data.DataLoader,\n",
    ") -> tuple[float, float]:\n",
    "    device = next(net.parameters()).device\n",
    "    with torch.no_grad():\n",
    "        test_loss = 0.0\n",
    "        ncorrect = 0\n",
    "        for inputs, labels in testloader:\n",
    "            inputs = inputs.to(device)\n",
    "            labels = labels.to(device)\n",
    "            pred_label = net(inputs)\n",
    "            loss = F.cross_entropy(pred_label, labels)\n",
    "            test_loss += loss.item()\n",
    "            ncorrect += (pred_label.argmax(dim=1) == labels).sum().item()\n",
    "    return test_loss / len(data_loader), ncorrect / len(data_loader.dataset)"
   ]
  },
  {
   "cell_type": "code",
   "execution_count": 106,
   "metadata": {},
   "outputs": [],
   "source": [
    "import typing\n",
    "def make_training_iterator(loader: torch.utils.data.DataLoader, epochs: int) -> typing.Iterator[tuple[int, torch.Tensor, torch.Tensor]]:\n",
    "    for epoch in range(epochs):\n",
    "        for data, label in loader:\n",
    "            yield epoch, data, label"
   ]
  },
  {
   "cell_type": "code",
   "execution_count": 107,
   "metadata": {},
   "outputs": [],
   "source": [
    "device = torch.device(\"cuda:0\" if torch.cuda.is_available() else \"cpu\")\n",
    "\n",
    "net = Net().to(device)\n",
    "\n",
    "optimizer = torch.optim.AdamW(net.parameters(), lr=1e-3)\n",
    "\n",
    "train_iter = make_training_iterator(trainloader_augment, 100)\n",
    "\n",
    "net_step = 0\n",
    "net_losses = []\n",
    "net_test_losses = []"
   ]
  },
  {
   "cell_type": "code",
   "execution_count": 108,
   "metadata": {},
   "outputs": [
    {
     "name": "stdout",
     "output_type": "stream",
     "text": [
      "Step: 1000, Loss: 1.379258\n",
      "Step: 2000, Loss: 1.106635\n",
      "Step: 3000, Loss: 0.993227\n",
      "Step: 4000, Loss: 0.922905\n",
      "Step: 5000, Loss: 0.878932\n",
      "Step: 6000, Loss: 0.843427\n",
      "Step: 7000, Loss: 0.823388\n",
      "Step: 8000, Loss: 0.801891\n"
     ]
    },
    {
     "ename": "KeyboardInterrupt",
     "evalue": "",
     "output_type": "error",
     "traceback": [
      "\u001b[0;31m---------------------------------------------------------------------------\u001b[0m",
      "\u001b[0;31mKeyboardInterrupt\u001b[0m                         Traceback (most recent call last)",
      "\u001b[1;32m/home/fidgetsinner/foo/python/cifar10/cifar10.ipynb Cell 7\u001b[0m line \u001b[0;36m3\n\u001b[1;32m      <a href='vscode-notebook-cell:/home/fidgetsinner/foo/python/cifar10/cifar10.ipynb#W5sZmlsZQ%3D%3D?line=0'>1</a>\u001b[0m \u001b[39mfor\u001b[39;00m _, inputs, labels \u001b[39min\u001b[39;00m train_iter:\n\u001b[1;32m      <a href='vscode-notebook-cell:/home/fidgetsinner/foo/python/cifar10/cifar10.ipynb#W5sZmlsZQ%3D%3D?line=1'>2</a>\u001b[0m     \u001b[39m# train on minibatch\u001b[39;00m\n\u001b[0;32m----> <a href='vscode-notebook-cell:/home/fidgetsinner/foo/python/cifar10/cifar10.ipynb#W5sZmlsZQ%3D%3D?line=2'>3</a>\u001b[0m     loss \u001b[39m=\u001b[39m train_net(net, optimizer, inputs, labels)\n\u001b[1;32m      <a href='vscode-notebook-cell:/home/fidgetsinner/foo/python/cifar10/cifar10.ipynb#W5sZmlsZQ%3D%3D?line=3'>4</a>\u001b[0m     net_losses\u001b[39m.\u001b[39mappend(loss)\n\u001b[1;32m      <a href='vscode-notebook-cell:/home/fidgetsinner/foo/python/cifar10/cifar10.ipynb#W5sZmlsZQ%3D%3D?line=4'>5</a>\u001b[0m     net_step \u001b[39m+\u001b[39m\u001b[39m=\u001b[39m \u001b[39m1\u001b[39m\n",
      "\u001b[1;32m/home/fidgetsinner/foo/python/cifar10/cifar10.ipynb Cell 7\u001b[0m line \u001b[0;36m2\n\u001b[1;32m     <a href='vscode-notebook-cell:/home/fidgetsinner/foo/python/cifar10/cifar10.ipynb#W5sZmlsZQ%3D%3D?line=20'>21</a>\u001b[0m         x \u001b[39m=\u001b[39m \u001b[39mself\u001b[39m\u001b[39m.\u001b[39mfc3(x)\n\u001b[1;32m     <a href='vscode-notebook-cell:/home/fidgetsinner/foo/python/cifar10/cifar10.ipynb#W5sZmlsZQ%3D%3D?line=21'>22</a>\u001b[0m         \u001b[39mreturn\u001b[39;00m x\n\u001b[0;32m---> <a href='vscode-notebook-cell:/home/fidgetsinner/foo/python/cifar10/cifar10.ipynb#W5sZmlsZQ%3D%3D?line=24'>25</a>\u001b[0m \u001b[39mdef\u001b[39;00m \u001b[39mtrain_net\u001b[39m(\n\u001b[1;32m     <a href='vscode-notebook-cell:/home/fidgetsinner/foo/python/cifar10/cifar10.ipynb#W5sZmlsZQ%3D%3D?line=25'>26</a>\u001b[0m         net: Net,\n\u001b[1;32m     <a href='vscode-notebook-cell:/home/fidgetsinner/foo/python/cifar10/cifar10.ipynb#W5sZmlsZQ%3D%3D?line=26'>27</a>\u001b[0m         net_optimizer: torch\u001b[39m.\u001b[39moptim\u001b[39m.\u001b[39mOptimizer,\n\u001b[1;32m     <a href='vscode-notebook-cell:/home/fidgetsinner/foo/python/cifar10/cifar10.ipynb#W5sZmlsZQ%3D%3D?line=27'>28</a>\u001b[0m         data_tensor: torch\u001b[39m.\u001b[39mTensor,\n\u001b[1;32m     <a href='vscode-notebook-cell:/home/fidgetsinner/foo/python/cifar10/cifar10.ipynb#W5sZmlsZQ%3D%3D?line=28'>29</a>\u001b[0m         label_tensor: torch\u001b[39m.\u001b[39mTensor,\n\u001b[1;32m     <a href='vscode-notebook-cell:/home/fidgetsinner/foo/python/cifar10/cifar10.ipynb#W5sZmlsZQ%3D%3D?line=29'>30</a>\u001b[0m ) \u001b[39m-\u001b[39m\u001b[39m>\u001b[39m \u001b[39mfloat\u001b[39m:\n\u001b[1;32m     <a href='vscode-notebook-cell:/home/fidgetsinner/foo/python/cifar10/cifar10.ipynb#W5sZmlsZQ%3D%3D?line=30'>31</a>\u001b[0m     device \u001b[39m=\u001b[39m \u001b[39mnext\u001b[39m(net\u001b[39m.\u001b[39mparameters())\u001b[39m.\u001b[39mdevice\n\u001b[1;32m     <a href='vscode-notebook-cell:/home/fidgetsinner/foo/python/cifar10/cifar10.ipynb#W5sZmlsZQ%3D%3D?line=32'>33</a>\u001b[0m     data_tensor \u001b[39m=\u001b[39m data_tensor\u001b[39m.\u001b[39mto(device)\n",
      "\u001b[0;31mKeyboardInterrupt\u001b[0m: "
     ]
    }
   ],
   "source": [
    "for _, inputs, labels in train_iter:\n",
    "    # train on minibatch\n",
    "    loss = train_net(net, optimizer, inputs, labels)\n",
    "    net_losses.append(loss)\n",
    "    net_step += 1\n",
    "    # validation loss\n",
    "    if net_step % 100 == 0:\n",
    "        test_loss, _ = get_avg_loss_accuracy(net, testloader)\n",
    "        net_test_losses.append(test_loss)\n",
    "    # print statistics\n",
    "    if net_step % 1000 == 0:\n",
    "        loss = np.mean(net_losses[-1000:])\n",
    "        print(f\"Step: {net_step}, Loss: {loss:.6f}\")\n",
    "\n",
    "print('Finished Training')"
   ]
  },
  {
   "cell_type": "code",
   "execution_count": 109,
   "metadata": {},
   "outputs": [
    {
     "data": {
      "text/plain": [
       "[<matplotlib.lines.Line2D at 0x7f287fd4fc90>]"
      ]
     },
     "execution_count": 109,
     "metadata": {},
     "output_type": "execute_result"
    },
    {
     "data": {
      "image/png": "[encoded data removed]",
      "text/plain": [
       "<Figure size 640x480 with 1 Axes>"
      ]
     },
     "metadata": {},
     "output_type": "display_data"
    }
   ],
   "source": [
    "plt.plot(net_losses)\n",
    "plt.plot(np.arange(0, len(net_test_losses) * 100, 100), net_test_losses)"
   ]
  },
  {
   "cell_type": "code",
   "execution_count": 113,
   "metadata": {},
   "outputs": [
    {
     "name": "stdout",
     "output_type": "stream",
     "text": [
      "Accuracy of the network on the 10000 test images: 68.84%\n"
     ]
    }
   ],
   "source": [
    "_, test_accuracy = get_avg_loss_accuracy(net, testloader)\n",
    "\n",
    "print(f'Accuracy of the network on the {len(testset)} test images: {100 * test_accuracy:.2f}%')"
   ]
  }
 ],
 "metadata": {
  "kernelspec": {
   "display_name": "Python 3",
   "language": "python",
   "name": "python3"
  },
  "language_info": {
   "codemirror_mode": {
    "name": "ipython",
    "version": 3
   },
   "file_extension": ".py",
   "mimetype": "text/x-python",
   "name": "python",
   "nbconvert_exporter": "python",
   "pygments_lexer": "ipython3",
   "version": "3.11.5"
  }
 },
 "nbformat": 4,
 "nbformat_minor": 2
}
