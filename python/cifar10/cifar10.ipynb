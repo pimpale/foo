{
 "cells": [
  {
   "cell_type": "code",
   "execution_count": 1,
   "metadata": {},
   "outputs": [],
   "source": [
    "import torch\n",
    "import torch.nn as nn\n",
    "import torch.nn.functional as F\n",
    "import torchvision\n",
    "import torchvision.transforms as transforms\n",
    "import numpy as np\n",
    "import matplotlib.pyplot as plt"
   ]
  },
  {
   "cell_type": "code",
   "execution_count": 2,
   "metadata": {},
   "outputs": [],
   "source": [
    "classes = (\n",
    "    \"plane\",\n",
    "    \"car\",\n",
    "    \"bird\",\n",
    "    \"cat\",\n",
    "    \"deer\",\n",
    "    \"dog\",\n",
    "    \"frog\",\n",
    "    \"horse\",\n",
    "    \"ship\",\n",
    "    \"truck\",\n",
    ")"
   ]
  },
  {
   "cell_type": "code",
   "execution_count": 3,
   "metadata": {},
   "outputs": [
    {
     "name": "stdout",
     "output_type": "stream",
     "text": [
      "Files already downloaded and verified\n",
      "Files already downloaded and verified\n"
     ]
    }
   ],
   "source": [
    "testset = torchvision.datasets.CIFAR10(\n",
    "    root=\"./data\",\n",
    "    train=False,\n",
    "    download=True,\n",
    "    transform=transforms.Compose([\n",
    "        transforms.ToTensor(),\n",
    "        transforms.Normalize((0.5, 0.5, 0.5), (0.5, 0.5, 0.5)),\n",
    "    ]),\n",
    ")\n",
    "trainset_augment = torchvision.datasets.CIFAR10(\n",
    "    root=\"./data\",\n",
    "    train=True,\n",
    "    download=True,\n",
    "    transform=transforms.Compose([\n",
    "        transforms.RandomHorizontalFlip(),\n",
    "        transforms.RandomRotation(10),\n",
    "        transforms.RandomCrop(32, 4),\n",
    "        transforms.ToTensor(),\n",
    "        transforms.Normalize((0.5, 0.5, 0.5), (0.5, 0.5, 0.5)),\n",
    "    ]),\n",
    ")\n",
    "\n",
    "# train loader has batch size 256 since we want to not overruse our data\n",
    "trainloader_augment = torch.utils.data.DataLoader(\n",
    "    trainset_augment, batch_size=256, shuffle=True, num_workers=16\n",
    ")\n",
    "\n",
    "# test loader has bigger batch size since we care only about efficiency\n",
    "testloader = torch.utils.data.DataLoader(\n",
    "    testset, batch_size=1024, shuffle=False, num_workers=16\n",
    ")\n"
   ]
  },
  {
   "cell_type": "code",
   "execution_count": 16,
   "metadata": {},
   "outputs": [],
   "source": [
    "class Net(nn.Module):\n",
    "    def __init__(self) -> None:\n",
    "        super().__init__()\n",
    "        self.conv1 = nn.Conv2d(3, 32, 3, padding=1)\n",
    "        self.conv2 = nn.Conv2d(32, 64, 3, padding=1)\n",
    "        self.conv2_bn = nn.BatchNorm2d(64)\n",
    "        self.conv3_1 = nn.Conv2d(64, 128, 3, padding=1)\n",
    "        self.conv3_2 = nn.Conv2d(128, 128, 3, padding=1)\n",
    "        self.conv3_2_bn = nn.BatchNorm2d(128)\n",
    "        self.conv4_1 = nn.Conv2d(128, 256, 3, padding=1)\n",
    "        self.conv4_2 = nn.Conv2d(256, 256, 3, padding=1)\n",
    "        self.conv4_2_bn = nn.BatchNorm2d(256)\n",
    "        self.conv5_1 = nn.Conv2d(256, 256, 3, padding=1)\n",
    "        self.conv5_2 = nn.Conv2d(256, 256, 3, padding=1)\n",
    "        self.conv5_2_bn = nn.BatchNorm2d(256)\n",
    "        self.conv6 = nn.Conv2d(256, 32, 3, padding=1)\n",
    "        self.fc1 = nn.Linear(512, 512)\n",
    "        self.fc2 = nn.Linear(512, 256)\n",
    "        self.fc3 = nn.Linear(256, 10)\n",
    "\n",
    "    def forward(self, x: torch.Tensor) -> torch.Tensor:\n",
    "        x = F.relu(self.conv1(x))\n",
    "        x = F.max_pool2d(self.conv2_bn(F.relu(self.conv2(x))), 2)\n",
    "        x = F.relu(self.conv3_1(x))\n",
    "        x = self.conv3_2_bn(F.relu(self.conv3_2(x)))\n",
    "        x = F.max_pool2d(F.relu(self.conv4_1(x)), 2)\n",
    "        x = self.conv4_2_bn(F.relu(self.conv4_2(x)))\n",
    "        x = F.max_pool2d(F.relu(self.conv5_1(x)), 2)\n",
    "        x = self.conv5_2_bn(F.relu(self.conv5_2(x)))\n",
    "        x = F.relu(self.conv6(x))\n",
    "        x = x.flatten(start_dim=1)\n",
    "        x = F.relu(self.fc1(x))\n",
    "        x = F.dropout(x, 0.5)\n",
    "        x = F.relu(self.fc2(x))\n",
    "        x = F.dropout(x, 0.5)\n",
    "        x = self.fc3(x)\n",
    "        return x\n",
    "        \n",
    "\n",
    "\n",
    "def train_net(\n",
    "        net: Net,\n",
    "        net_optimizer: torch.optim.Optimizer,\n",
    "        data_tensor: torch.Tensor,\n",
    "        label_tensor: torch.Tensor,\n",
    ") -> float:\n",
    "    net.train()\n",
    "    device = next(net.parameters()).device\n",
    "\n",
    "    data_tensor = data_tensor.to(device)\n",
    "    label_tensor = label_tensor.to(device)\n",
    "\n",
    "    net_optimizer.zero_grad()\n",
    "\n",
    "    pred_label = net(data_tensor)\n",
    "\n",
    "    loss = F.cross_entropy(pred_label, label_tensor)\n",
    "    loss.backward()\n",
    "\n",
    "    net_optimizer.step()\n",
    "\n",
    "    return float(loss.item())\n",
    "\n",
    "def get_avg_loss_accuracy(\n",
    "        net: Net,\n",
    "        data_loader: torch.utils.data.DataLoader,\n",
    ") -> tuple[float, float]:\n",
    "    net.eval()\n",
    "    device = next(net.parameters()).device\n",
    "    with torch.no_grad():\n",
    "        test_loss = 0.0\n",
    "        ncorrect = 0\n",
    "        for inputs, labels in testloader:\n",
    "            inputs = inputs.to(device)\n",
    "            labels = labels.to(device)\n",
    "            pred_label = net(inputs)\n",
    "            loss = F.cross_entropy(pred_label, labels)\n",
    "            test_loss += loss.item()\n",
    "            ncorrect += (pred_label.argmax(dim=1) == labels).sum().item()\n",
    "    return test_loss / len(data_loader), ncorrect / len(data_loader.dataset)"
   ]
  },
  {
   "cell_type": "code",
   "execution_count": 17,
   "metadata": {},
   "outputs": [],
   "source": [
    "import typing\n",
    "def make_training_iterator(loader: torch.utils.data.DataLoader, epochs: int) -> typing.Iterator[tuple[int, torch.Tensor, torch.Tensor]]:\n",
    "    for epoch in range(epochs):\n",
    "        for data, label in loader:\n",
    "            yield epoch, data, label"
   ]
  },
  {
   "cell_type": "code",
   "execution_count": 18,
   "metadata": {},
   "outputs": [],
   "source": [
    "device = torch.device(\"cuda:0\" if torch.cuda.is_available() else \"cpu\")\n",
    "\n",
    "net = Net().to(device)\n",
    "\n",
    "optimizer = torch.optim.AdamW(net.parameters(), lr=5e-4)\n",
    "\n",
    "train_iter = make_training_iterator(trainloader_augment, 200)\n",
    "\n",
    "net_step = 0\n",
    "net_losses = []\n",
    "net_test_losses = []"
   ]
  },
  {
   "cell_type": "code",
   "execution_count": 19,
   "metadata": {},
   "outputs": [
    {
     "name": "stdout",
     "output_type": "stream",
     "text": [
      "Step: 1000, Loss: 1.043983\n",
      "Step: 2000, Loss: 0.551424\n",
      "Step: 3000, Loss: 0.398281\n"
     ]
    },
    {
     "ename": "KeyboardInterrupt",
     "evalue": "",
     "output_type": "error",
     "traceback": [
      "\u001b[0;31m---------------------------------------------------------------------------\u001b[0m",
      "\u001b[0;31mKeyboardInterrupt\u001b[0m                         Traceback (most recent call last)",
      "\u001b[1;32m/home/fidgetsinner/foo/python/cifar10/cifar10.ipynb Cell 7\u001b[0m line \u001b[0;36m3\n\u001b[1;32m      <a href='vscode-notebook-cell:/home/fidgetsinner/foo/python/cifar10/cifar10.ipynb#W6sZmlsZQ%3D%3D?line=0'>1</a>\u001b[0m \u001b[39mfor\u001b[39;00m _, inputs, labels \u001b[39min\u001b[39;00m train_iter:\n\u001b[1;32m      <a href='vscode-notebook-cell:/home/fidgetsinner/foo/python/cifar10/cifar10.ipynb#W6sZmlsZQ%3D%3D?line=1'>2</a>\u001b[0m     \u001b[39m# train on minibatch\u001b[39;00m\n\u001b[0;32m----> <a href='vscode-notebook-cell:/home/fidgetsinner/foo/python/cifar10/cifar10.ipynb#W6sZmlsZQ%3D%3D?line=2'>3</a>\u001b[0m     loss \u001b[39m=\u001b[39m train_net(net, optimizer, inputs, labels)\n\u001b[1;32m      <a href='vscode-notebook-cell:/home/fidgetsinner/foo/python/cifar10/cifar10.ipynb#W6sZmlsZQ%3D%3D?line=3'>4</a>\u001b[0m     net_losses\u001b[39m.\u001b[39mappend(loss)\n\u001b[1;32m      <a href='vscode-notebook-cell:/home/fidgetsinner/foo/python/cifar10/cifar10.ipynb#W6sZmlsZQ%3D%3D?line=4'>5</a>\u001b[0m     net_step \u001b[39m+\u001b[39m\u001b[39m=\u001b[39m \u001b[39m1\u001b[39m\n",
      "\u001b[1;32m/home/fidgetsinner/foo/python/cifar10/cifar10.ipynb Cell 7\u001b[0m line \u001b[0;36m6\n\u001b[1;32m     <a href='vscode-notebook-cell:/home/fidgetsinner/foo/python/cifar10/cifar10.ipynb#W6sZmlsZQ%3D%3D?line=57'>58</a>\u001b[0m loss\u001b[39m.\u001b[39mbackward()\n\u001b[1;32m     <a href='vscode-notebook-cell:/home/fidgetsinner/foo/python/cifar10/cifar10.ipynb#W6sZmlsZQ%3D%3D?line=59'>60</a>\u001b[0m net_optimizer\u001b[39m.\u001b[39mstep()\n\u001b[0;32m---> <a href='vscode-notebook-cell:/home/fidgetsinner/foo/python/cifar10/cifar10.ipynb#W6sZmlsZQ%3D%3D?line=61'>62</a>\u001b[0m \u001b[39mreturn\u001b[39;00m \u001b[39mfloat\u001b[39m(loss\u001b[39m.\u001b[39;49mitem())\n",
      "\u001b[0;31mKeyboardInterrupt\u001b[0m: "
     ]
    }
   ],
   "source": [
    "for _, inputs, labels in train_iter:\n",
    "    # train on minibatch\n",
    "    loss = train_net(net, optimizer, inputs, labels)\n",
    "    net_losses.append(loss)\n",
    "    net_step += 1\n",
    "    # validation loss\n",
    "    if net_step % 100 == 0:\n",
    "        test_loss, _ = get_avg_loss_accuracy(net, testloader)\n",
    "        net_test_losses.append(test_loss)\n",
    "    # print statistics\n",
    "    if net_step % 1000 == 0:\n",
    "        loss = np.mean(net_losses[-1000:])\n",
    "        print(f\"Step: {net_step}, Loss: {loss:.6f}\")\n",
    "\n",
    "print('Finished Training')"
   ]
  },
  {
   "cell_type": "code",
   "execution_count": 20,
   "metadata": {},
   "outputs": [
    {
     "data": {
      "text/plain": [
       "[<matplotlib.lines.Line2D at 0x7f48c0192510>]"
      ]
     },
     "execution_count": 20,
     "metadata": {},
     "output_type": "execute_result"
    },
    {
     "data": {
      "image/png": "[encoded data removed]",
      "text/plain": [
       "<Figure size 640x480 with 1 Axes>"
      ]
     },
     "metadata": {},
     "output_type": "display_data"
    }
   ],
   "source": [
    "plt.plot(net_losses)\n",
    "plt.plot(np.arange(0, len(net_test_losses) * 100, 100), net_test_losses)"
   ]
  },
  {
   "cell_type": "code",
   "execution_count": 21,
   "metadata": {},
   "outputs": [
    {
     "name": "stdout",
     "output_type": "stream",
     "text": [
      "Accuracy of the network on the 10000 test images: 86.67%\n"
     ]
    }
   ],
   "source": [
    "_, test_accuracy = get_avg_loss_accuracy(net, testloader)\n",
    "\n",
    "print(f'Accuracy of the network on the {len(testset)} test images: {100 * test_accuracy:.2f}%')"
   ]
  }
 ],
 "metadata": {
  "kernelspec": {
   "display_name": "Python 3",
   "language": "python",
   "name": "python3"
  },
  "language_info": {
   "codemirror_mode": {
    "name": "ipython",
    "version": 3
   },
   "file_extension": ".py",
   "mimetype": "text/x-python",
   "name": "python",
   "nbconvert_exporter": "python",
   "pygments_lexer": "ipython3",
   "version": "3.11.5"
  }
 },
 "nbformat": 4,
 "nbformat_minor": 2
}
